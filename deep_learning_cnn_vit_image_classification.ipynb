{
 "cells": [
  {
   "cell_type": "markdown",
   "id": "9d31cdb3",
   "metadata": {
    "_cell_guid": "b1076dfc-b9ad-4769-8c92-a6c4dae69d19",
    "_uuid": "8f2839f25d086af736a60e9eeb907d3b93b6e0e5",
    "papermill": {
     "duration": 0.018668,
     "end_time": "2024-07-21T07:10:59.665739",
     "exception": false,
     "start_time": "2024-07-21T07:10:59.647071",
     "status": "completed"
    },
    "tags": []
   },
   "source": [
    "# **0. Intro**\n",
    "\n",
    "This notebook will predict the labels of test set with **convolutional neural network (CNN)** and **vision transformers (ViT)**, and compare the accuracy of these methods."
   ]
  },
  {
   "cell_type": "markdown",
   "id": "7d215424",
   "metadata": {
    "papermill": {
     "duration": 0.018863,
     "end_time": "2024-07-21T07:10:59.702849",
     "exception": false,
     "start_time": "2024-07-21T07:10:59.683986",
     "status": "completed"
    },
    "tags": []
   },
   "source": [
    "# **1. Convolutional Neural Network**"
   ]
  },
  {
   "cell_type": "code",
   "execution_count": 1,
   "id": "30dfcaeb",
   "metadata": {
    "execution": {
     "iopub.execute_input": "2024-07-21T07:10:59.776411Z",
     "iopub.status.busy": "2024-07-21T07:10:59.775804Z",
     "iopub.status.idle": "2024-07-21T07:11:13.021593Z",
     "shell.execute_reply": "2024-07-21T07:11:13.020580Z"
    },
    "papermill": {
     "duration": 13.267455,
     "end_time": "2024-07-21T07:11:13.024129",
     "exception": false,
     "start_time": "2024-07-21T07:10:59.756674",
     "status": "completed"
    },
    "tags": []
   },
   "outputs": [
    {
     "name": "stderr",
     "output_type": "stream",
     "text": [
      "2024-07-21 07:11:02.192697: E external/local_xla/xla/stream_executor/cuda/cuda_dnn.cc:9261] Unable to register cuDNN factory: Attempting to register factory for plugin cuDNN when one has already been registered\n",
      "2024-07-21 07:11:02.192792: E external/local_xla/xla/stream_executor/cuda/cuda_fft.cc:607] Unable to register cuFFT factory: Attempting to register factory for plugin cuFFT when one has already been registered\n",
      "2024-07-21 07:11:02.318732: E external/local_xla/xla/stream_executor/cuda/cuda_blas.cc:1515] Unable to register cuBLAS factory: Attempting to register factory for plugin cuBLAS when one has already been registered\n"
     ]
    }
   ],
   "source": [
    "import os\n",
    "import shutil\n",
    "import pandas as pd\n",
    "import numpy as np\n",
    "import matplotlib.pyplot as plt\n",
    "\n",
    "import tensorflow as tf\n",
    "from tensorflow.keras.models import Sequential\n",
    "from tensorflow.keras.layers import Conv2D, MaxPooling2D, Flatten, Dense, Dropout, BatchNormalization, Activation\n",
    "from tensorflow.keras.preprocessing.image import ImageDataGenerator, load_img, img_to_array\n",
    "from tensorflow.keras.optimizers import Adam\n",
    "from tensorflow.keras.callbacks import ReduceLROnPlateau, EarlyStopping\n",
    "from tensorflow.keras.regularizers import l2\n",
    "from tensorflow.keras.losses import CategoricalCrossentropy\n",
    "\n",
    "from sklearn.metrics import confusion_matrix, ConfusionMatrixDisplay, roc_curve, auc\n",
    "from sklearn.preprocessing import label_binarize\n",
    "from itertools import cycle"
   ]
  },
  {
   "cell_type": "code",
   "execution_count": 2,
   "id": "5b57d56f",
   "metadata": {
    "execution": {
     "iopub.execute_input": "2024-07-21T07:11:13.063784Z",
     "iopub.status.busy": "2024-07-21T07:11:13.063003Z",
     "iopub.status.idle": "2024-07-21T07:11:14.110246Z",
     "shell.execute_reply": "2024-07-21T07:11:14.109174Z"
    },
    "papermill": {
     "duration": 1.077927,
     "end_time": "2024-07-21T07:11:14.121240",
     "exception": false,
     "start_time": "2024-07-21T07:11:13.043313",
     "status": "completed"
    },
    "tags": []
   },
   "outputs": [
    {
     "name": "stdout",
     "output_type": "stream",
     "text": [
      "Num GPUs Available:  2\n",
      "Using 2 GPUs\n"
     ]
    }
   ],
   "source": [
    "# Make sure training with GPU\n",
    "gpus = tf.config.experimental.list_physical_devices('GPU')\n",
    "num_gpus = len(gpus)\n",
    "print(\"Num GPUs Available: \", num_gpus)\n",
    "\n",
    "if num_gpus > 0:\n",
    "    try:\n",
    "        \n",
    "        if num_gpus >= 2:\n",
    "            tf.config.experimental.set_visible_devices(gpus[:2], 'GPU')\n",
    "            strategy = tf.distribute.MirroredStrategy(devices=[\"/gpu:0\", \"/gpu:1\"])\n",
    "            print(\"Using 2 GPUs\")\n",
    "        else:\n",
    "            \n",
    "            tf.config.experimental.set_visible_devices(gpus, 'GPU')\n",
    "            strategy = tf.distribute.MirroredStrategy()\n",
    "            print(f\"Using {num_gpus} GPU(s)\")\n",
    "    except RuntimeError as e:\n",
    "        print(e)\n",
    "else:\n",
    "    \n",
    "    strategy = tf.distribute.get_strategy()\n",
    "    print(\"Using CPU\")"
   ]
  },
  {
   "cell_type": "markdown",
   "id": "c16424d2",
   "metadata": {
    "papermill": {
     "duration": 0.018266,
     "end_time": "2024-07-21T07:11:14.158997",
     "exception": false,
     "start_time": "2024-07-21T07:11:14.140731",
     "status": "completed"
    },
    "tags": []
   },
   "source": [
    "## Load Train and Validation Sets"
   ]
  },
  {
   "cell_type": "code",
   "execution_count": 3,
   "id": "c7c91fa5",
   "metadata": {
    "execution": {
     "iopub.execute_input": "2024-07-21T07:11:14.196748Z",
     "iopub.status.busy": "2024-07-21T07:11:14.196454Z",
     "iopub.status.idle": "2024-07-21T07:11:14.200667Z",
     "shell.execute_reply": "2024-07-21T07:11:14.199746Z"
    },
    "papermill": {
     "duration": 0.025311,
     "end_time": "2024-07-21T07:11:14.202542",
     "exception": false,
     "start_time": "2024-07-21T07:11:14.177231",
     "status": "completed"
    },
    "tags": []
   },
   "outputs": [],
   "source": [
    "# Path\n",
    "train_input_dir = \"/kaggle/input/nzmsa-2024/cifar10_images/train\"\n",
    "csv_file = \"/kaggle/input/nzmsa-2024/train.csv\"\n",
    "\n",
    "train_output_dir = \"/kaggle/working/data/train\"\n",
    "val_output_dir = \"/kaggle/working/data/val\""
   ]
  },
  {
   "cell_type": "code",
   "execution_count": 4,
   "id": "26536ef7",
   "metadata": {
    "execution": {
     "iopub.execute_input": "2024-07-21T07:11:14.240167Z",
     "iopub.status.busy": "2024-07-21T07:11:14.239892Z",
     "iopub.status.idle": "2024-07-21T07:11:14.276422Z",
     "shell.execute_reply": "2024-07-21T07:11:14.275761Z"
    },
    "papermill": {
     "duration": 0.057481,
     "end_time": "2024-07-21T07:11:14.278312",
     "exception": false,
     "start_time": "2024-07-21T07:11:14.220831",
     "status": "completed"
    },
    "tags": []
   },
   "outputs": [],
   "source": [
    "# Load train csv\n",
    "df = pd.read_csv(csv_file)"
   ]
  },
  {
   "cell_type": "code",
   "execution_count": 5,
   "id": "734ebdf5",
   "metadata": {
    "execution": {
     "iopub.execute_input": "2024-07-21T07:11:14.317313Z",
     "iopub.status.busy": "2024-07-21T07:11:14.316762Z",
     "iopub.status.idle": "2024-07-21T07:11:14.322473Z",
     "shell.execute_reply": "2024-07-21T07:11:14.321716Z"
    },
    "papermill": {
     "duration": 0.027027,
     "end_time": "2024-07-21T07:11:14.324408",
     "exception": false,
     "start_time": "2024-07-21T07:11:14.297381",
     "status": "completed"
    },
    "tags": []
   },
   "outputs": [],
   "source": [
    "# Create train and val folders\n",
    "for label in range(10):\n",
    "    os.makedirs(os.path.join(train_output_dir, str(label)), exist_ok=True)\n",
    "    os.makedirs(os.path.join(val_output_dir, str(label)), exist_ok=True)"
   ]
  },
  {
   "cell_type": "code",
   "execution_count": 6,
   "id": "3ab4dfae",
   "metadata": {
    "execution": {
     "iopub.execute_input": "2024-07-21T07:11:14.363511Z",
     "iopub.status.busy": "2024-07-21T07:11:14.363268Z",
     "iopub.status.idle": "2024-07-21T07:18:24.205116Z",
     "shell.execute_reply": "2024-07-21T07:18:24.204243Z"
    },
    "papermill": {
     "duration": 429.882184,
     "end_time": "2024-07-21T07:18:24.226072",
     "exception": false,
     "start_time": "2024-07-21T07:11:14.343888",
     "status": "completed"
    },
    "tags": []
   },
   "outputs": [
    {
     "name": "stdout",
     "output_type": "stream",
     "text": [
      "Train and Val images copied\n"
     ]
    }
   ],
   "source": [
    "# Copy images to train and val folders\n",
    "for label in range(10):\n",
    "    label_df = df[df['label'] == label]\n",
    "    train_images = label_df['id'].tolist()[:4500]\n",
    "    val_images = label_df['id'].tolist()[4500:5000]\n",
    "\n",
    "    # Copy train images\n",
    "    for img_id in train_images:\n",
    "        src_path = os.path.join(train_input_dir, f\"image_{img_id}.png\")\n",
    "        dest_path = os.path.join(train_output_dir, str(label), f\"image_{img_id}.png\")\n",
    "        shutil.copy(src_path, dest_path)\n",
    "\n",
    "    # Copy val images\n",
    "    for img_id in val_images:\n",
    "        src_path = os.path.join(train_input_dir, f\"image_{img_id}.png\")\n",
    "        dest_path = os.path.join(val_output_dir, str(label), f\"image_{img_id}.png\")\n",
    "        shutil.copy(src_path, dest_path)\n",
    "\n",
    "print(\"Train and Val images copied\")"
   ]
  },
  {
   "cell_type": "code",
   "execution_count": 7,
   "id": "ac996188",
   "metadata": {
    "execution": {
     "iopub.execute_input": "2024-07-21T07:18:24.264787Z",
     "iopub.status.busy": "2024-07-21T07:18:24.264513Z",
     "iopub.status.idle": "2024-07-21T07:18:24.272952Z",
     "shell.execute_reply": "2024-07-21T07:18:24.271967Z"
    },
    "papermill": {
     "duration": 0.029649,
     "end_time": "2024-07-21T07:18:24.274828",
     "exception": false,
     "start_time": "2024-07-21T07:18:24.245179",
     "status": "completed"
    },
    "tags": []
   },
   "outputs": [
    {
     "name": "stdout",
     "output_type": "stream",
     "text": [
      "Folder 0 has 500 images.\n",
      "Folder 1 has 500 images.\n",
      "Folder 2 has 500 images.\n",
      "Folder 3 has 500 images.\n",
      "Folder 4 has 500 images.\n",
      "Folder 5 has 500 images.\n",
      "Folder 6 has 500 images.\n",
      "Folder 7 has 500 images.\n",
      "Folder 8 has 500 images.\n",
      "Folder 9 has 500 images.\n"
     ]
    }
   ],
   "source": [
    "# Check files in folders\n",
    "output_dir = val_output_dir\n",
    "\n",
    "for label in range(10):\n",
    "    label_dir = os.path.join(output_dir, str(label))\n",
    "    num_files = len(os.listdir(label_dir))\n",
    "    print(f\"Folder {label} has {num_files} images.\")"
   ]
  },
  {
   "cell_type": "markdown",
   "id": "64566891",
   "metadata": {
    "papermill": {
     "duration": 0.018295,
     "end_time": "2024-07-21T07:18:24.311693",
     "exception": false,
     "start_time": "2024-07-21T07:18:24.293398",
     "status": "completed"
    },
    "tags": []
   },
   "source": [
    "## Load Test Set"
   ]
  },
  {
   "cell_type": "code",
   "execution_count": 8,
   "id": "fa37555c",
   "metadata": {
    "execution": {
     "iopub.execute_input": "2024-07-21T07:18:24.349296Z",
     "iopub.status.busy": "2024-07-21T07:18:24.349016Z",
     "iopub.status.idle": "2024-07-21T07:18:24.353410Z",
     "shell.execute_reply": "2024-07-21T07:18:24.352588Z"
    },
    "papermill": {
     "duration": 0.025668,
     "end_time": "2024-07-21T07:18:24.355403",
     "exception": false,
     "start_time": "2024-07-21T07:18:24.329735",
     "status": "completed"
    },
    "tags": []
   },
   "outputs": [],
   "source": [
    "# Create test folder\n",
    "test_input_dir= '/kaggle/input/nzmsa-2024/cifar10_images/test'\n",
    "test_output_dir = \"/kaggle/working/data/test\"\n",
    "os.makedirs(test_output_dir)"
   ]
  },
  {
   "cell_type": "code",
   "execution_count": 9,
   "id": "f322d430",
   "metadata": {
    "execution": {
     "iopub.execute_input": "2024-07-21T07:18:24.393399Z",
     "iopub.status.busy": "2024-07-21T07:18:24.393125Z",
     "iopub.status.idle": "2024-07-21T07:19:04.058680Z",
     "shell.execute_reply": "2024-07-21T07:19:04.057794Z"
    },
    "papermill": {
     "duration": 39.705323,
     "end_time": "2024-07-21T07:19:04.079144",
     "exception": false,
     "start_time": "2024-07-21T07:18:24.373821",
     "status": "completed"
    },
    "tags": []
   },
   "outputs": [
    {
     "name": "stdout",
     "output_type": "stream",
     "text": [
      "Test images copied\n"
     ]
    }
   ],
   "source": [
    "# Copy test images into labelled folders\n",
    "for filename in os.listdir(test_input_dir):\n",
    "    src_path = os.path.join(test_input_dir, filename)\n",
    "    dst_path = os.path.join(test_output_dir, filename)\n",
    "    shutil.copy(src_path, dst_path)\n",
    "\n",
    "print(\"Test images copied\")"
   ]
  },
  {
   "cell_type": "code",
   "execution_count": 10,
   "id": "0c0cbaf5",
   "metadata": {
    "execution": {
     "iopub.execute_input": "2024-07-21T07:19:04.161397Z",
     "iopub.status.busy": "2024-07-21T07:19:04.160610Z",
     "iopub.status.idle": "2024-07-21T07:19:04.169098Z",
     "shell.execute_reply": "2024-07-21T07:19:04.168242Z"
    },
    "papermill": {
     "duration": 0.030215,
     "end_time": "2024-07-21T07:19:04.170964",
     "exception": false,
     "start_time": "2024-07-21T07:19:04.140749",
     "status": "completed"
    },
    "tags": []
   },
   "outputs": [
    {
     "name": "stdout",
     "output_type": "stream",
     "text": [
      "Folder /kaggle/working/data/test has 5000 images.\n"
     ]
    }
   ],
   "source": [
    "# Display number of images in test folder\n",
    "num_files = len(os.listdir(test_output_dir))\n",
    "print(f\"Folder {test_output_dir} has {num_files} images.\")"
   ]
  },
  {
   "cell_type": "code",
   "execution_count": 11,
   "id": "96fd9f48",
   "metadata": {
    "execution": {
     "iopub.execute_input": "2024-07-21T07:19:04.209631Z",
     "iopub.status.busy": "2024-07-21T07:19:04.208869Z",
     "iopub.status.idle": "2024-07-21T07:19:04.213932Z",
     "shell.execute_reply": "2024-07-21T07:19:04.212997Z"
    },
    "papermill": {
     "duration": 0.026475,
     "end_time": "2024-07-21T07:19:04.215969",
     "exception": false,
     "start_time": "2024-07-21T07:19:04.189494",
     "status": "completed"
    },
    "tags": []
   },
   "outputs": [
    {
     "name": "stdout",
     "output_type": "stream",
     "text": [
      "/kaggle/working/data/train\n",
      "/kaggle/working/data/val\n",
      "/kaggle/working/data/test\n"
     ]
    }
   ],
   "source": [
    "print(train_output_dir)\n",
    "print(val_output_dir)\n",
    "print(test_output_dir)"
   ]
  },
  {
   "cell_type": "markdown",
   "id": "887d4f43",
   "metadata": {
    "papermill": {
     "duration": 0.018713,
     "end_time": "2024-07-21T07:19:04.253319",
     "exception": false,
     "start_time": "2024-07-21T07:19:04.234606",
     "status": "completed"
    },
    "tags": []
   },
   "source": [
    "## Process Train and Val Sets"
   ]
  },
  {
   "cell_type": "code",
   "execution_count": 12,
   "id": "08ddcb47",
   "metadata": {
    "execution": {
     "iopub.execute_input": "2024-07-21T07:19:04.292250Z",
     "iopub.status.busy": "2024-07-21T07:19:04.291983Z",
     "iopub.status.idle": "2024-07-21T07:19:05.994647Z",
     "shell.execute_reply": "2024-07-21T07:19:05.993891Z"
    },
    "papermill": {
     "duration": 1.724356,
     "end_time": "2024-07-21T07:19:05.996748",
     "exception": false,
     "start_time": "2024-07-21T07:19:04.272392",
     "status": "completed"
    },
    "tags": []
   },
   "outputs": [
    {
     "name": "stdout",
     "output_type": "stream",
     "text": [
      "Found 45000 images belonging to 10 classes.\n",
      "Found 5000 images belonging to 10 classes.\n"
     ]
    }
   ],
   "source": [
    "# Process train and val set\n",
    "IMG_WIDTH = 32\n",
    "IMG_HEIGHT = 32\n",
    "BATCH_SIZE = 32\n",
    "\n",
    "train_datagen = ImageDataGenerator(\n",
    "    rescale=1.0/255,\n",
    "    zoom_range=0.2,\n",
    "    width_shift_range=0.2,\n",
    "    height_shift_range=0.2,\n",
    "    horizontal_flip=True,\n",
    "    rotation_range=20,\n",
    "    shear_range=0.2,\n",
    "    brightness_range=[0.8, 1.2],\n",
    "    fill_mode='nearest'\n",
    ")\n",
    "\n",
    "train_generator = train_datagen.flow_from_directory(\n",
    "    train_output_dir,  # Train set path\n",
    "    target_size=(IMG_WIDTH, IMG_HEIGHT),\n",
    "    batch_size=BATCH_SIZE,\n",
    "    class_mode='categorical',\n",
    "    shuffle=True\n",
    ")\n",
    "\n",
    "validation_datagen = ImageDataGenerator(rescale=1.0/255)\n",
    "validation_generator = validation_datagen.flow_from_directory(\n",
    "    val_output_dir,  # Val set path\n",
    "    target_size=(IMG_WIDTH, IMG_HEIGHT),\n",
    "    batch_size=BATCH_SIZE,\n",
    "    class_mode='categorical',\n",
    "    shuffle=True\n",
    ")"
   ]
  },
  {
   "cell_type": "markdown",
   "id": "25fc3392",
   "metadata": {
    "papermill": {
     "duration": 0.018838,
     "end_time": "2024-07-21T07:19:06.035271",
     "exception": false,
     "start_time": "2024-07-21T07:19:06.016433",
     "status": "completed"
    },
    "tags": []
   },
   "source": [
    "## Creat CNN Model"
   ]
  },
  {
   "cell_type": "code",
   "execution_count": 13,
   "id": "6b22c707",
   "metadata": {
    "execution": {
     "iopub.execute_input": "2024-07-21T07:19:06.074331Z",
     "iopub.status.busy": "2024-07-21T07:19:06.074005Z",
     "iopub.status.idle": "2024-07-21T07:19:06.082416Z",
     "shell.execute_reply": "2024-07-21T07:19:06.081575Z"
    },
    "papermill": {
     "duration": 0.030461,
     "end_time": "2024-07-21T07:19:06.084495",
     "exception": false,
     "start_time": "2024-07-21T07:19:06.054034",
     "status": "completed"
    },
    "tags": []
   },
   "outputs": [],
   "source": [
    "# Create cnn model\n",
    "def create_model():\n",
    "    model = Sequential([\n",
    "        Conv2D(filters=64, kernel_size=(3, 3), padding='same', input_shape=(IMG_WIDTH, IMG_HEIGHT, 3)),\n",
    "        Activation('relu'),\n",
    "        MaxPooling2D(pool_size=(2, 2)),\n",
    "        BatchNormalization(),\n",
    "        \n",
    "        Conv2D(filters=128, kernel_size=(3, 3), padding='same', kernel_regularizer=l2(0.0001)),\n",
    "        Activation('relu'),\n",
    "        MaxPooling2D(pool_size=(2, 2)),\n",
    "        BatchNormalization(),\n",
    "        \n",
    "        Conv2D(filters=128, kernel_size=(3, 3), padding='same', kernel_regularizer=l2(0.0001)),\n",
    "        Activation('relu'),\n",
    "        MaxPooling2D(pool_size=(2, 2)),\n",
    "        BatchNormalization(),\n",
    "        \n",
    "        Conv2D(filters=256, kernel_size=(3, 3), padding='same', kernel_regularizer=l2(0.0001)),\n",
    "        Activation('relu'),\n",
    "        MaxPooling2D(pool_size=(2, 2)),\n",
    "        BatchNormalization(),\n",
    "        \n",
    "        Flatten(),\n",
    "        \n",
    "        Dense(units=512, activation='relu', kernel_regularizer=l2(0.0001)),\n",
    "        Dropout(0.5),\n",
    "        BatchNormalization(),\n",
    "        \n",
    "        Dense(units=10, activation='softmax')\n",
    "    ])\n",
    "    \n",
    "    return model"
   ]
  },
  {
   "cell_type": "code",
   "execution_count": 14,
   "id": "4accaf56",
   "metadata": {
    "execution": {
     "iopub.execute_input": "2024-07-21T07:19:06.123208Z",
     "iopub.status.busy": "2024-07-21T07:19:06.122954Z",
     "iopub.status.idle": "2024-07-21T07:19:06.316438Z",
     "shell.execute_reply": "2024-07-21T07:19:06.315749Z"
    },
    "papermill": {
     "duration": 0.215008,
     "end_time": "2024-07-21T07:19:06.318330",
     "exception": false,
     "start_time": "2024-07-21T07:19:06.103322",
     "status": "completed"
    },
    "tags": []
   },
   "outputs": [
    {
     "name": "stderr",
     "output_type": "stream",
     "text": [
      "/opt/conda/lib/python3.10/site-packages/keras/src/layers/convolutional/base_conv.py:107: UserWarning: Do not pass an `input_shape`/`input_dim` argument to a layer. When using Sequential models, prefer using an `Input(shape)` object as the first layer in the model instead.\n",
      "  super().__init__(activity_regularizer=activity_regularizer, **kwargs)\n"
     ]
    },
    {
     "data": {
      "text/html": [
       "<pre style=\"white-space:pre;overflow-x:auto;line-height:normal;font-family:Menlo,'DejaVu Sans Mono',consolas,'Courier New',monospace\"><span style=\"font-weight: bold\">Model: \"sequential\"</span>\n",
       "</pre>\n"
      ],
      "text/plain": [
       "\u001b[1mModel: \"sequential\"\u001b[0m\n"
      ]
     },
     "metadata": {},
     "output_type": "display_data"
    },
    {
     "data": {
      "text/html": [
       "<pre style=\"white-space:pre;overflow-x:auto;line-height:normal;font-family:Menlo,'DejaVu Sans Mono',consolas,'Courier New',monospace\">┏━━━━━━━━━━━━━━━━━━━━━━━━━━━━━━━━━┳━━━━━━━━━━━━━━━━━━━━━━━━┳━━━━━━━━━━━━━━━┓\n",
       "┃<span style=\"font-weight: bold\"> Layer (type)                    </span>┃<span style=\"font-weight: bold\"> Output Shape           </span>┃<span style=\"font-weight: bold\">       Param # </span>┃\n",
       "┡━━━━━━━━━━━━━━━━━━━━━━━━━━━━━━━━━╇━━━━━━━━━━━━━━━━━━━━━━━━╇━━━━━━━━━━━━━━━┩\n",
       "│ conv2d (<span style=\"color: #0087ff; text-decoration-color: #0087ff\">Conv2D</span>)                 │ (<span style=\"color: #00d7ff; text-decoration-color: #00d7ff\">None</span>, <span style=\"color: #00af00; text-decoration-color: #00af00\">32</span>, <span style=\"color: #00af00; text-decoration-color: #00af00\">32</span>, <span style=\"color: #00af00; text-decoration-color: #00af00\">64</span>)     │         <span style=\"color: #00af00; text-decoration-color: #00af00\">1,792</span> │\n",
       "├─────────────────────────────────┼────────────────────────┼───────────────┤\n",
       "│ activation (<span style=\"color: #0087ff; text-decoration-color: #0087ff\">Activation</span>)         │ (<span style=\"color: #00d7ff; text-decoration-color: #00d7ff\">None</span>, <span style=\"color: #00af00; text-decoration-color: #00af00\">32</span>, <span style=\"color: #00af00; text-decoration-color: #00af00\">32</span>, <span style=\"color: #00af00; text-decoration-color: #00af00\">64</span>)     │             <span style=\"color: #00af00; text-decoration-color: #00af00\">0</span> │\n",
       "├─────────────────────────────────┼────────────────────────┼───────────────┤\n",
       "│ max_pooling2d (<span style=\"color: #0087ff; text-decoration-color: #0087ff\">MaxPooling2D</span>)    │ (<span style=\"color: #00d7ff; text-decoration-color: #00d7ff\">None</span>, <span style=\"color: #00af00; text-decoration-color: #00af00\">16</span>, <span style=\"color: #00af00; text-decoration-color: #00af00\">16</span>, <span style=\"color: #00af00; text-decoration-color: #00af00\">64</span>)     │             <span style=\"color: #00af00; text-decoration-color: #00af00\">0</span> │\n",
       "├─────────────────────────────────┼────────────────────────┼───────────────┤\n",
       "│ batch_normalization             │ (<span style=\"color: #00d7ff; text-decoration-color: #00d7ff\">None</span>, <span style=\"color: #00af00; text-decoration-color: #00af00\">16</span>, <span style=\"color: #00af00; text-decoration-color: #00af00\">16</span>, <span style=\"color: #00af00; text-decoration-color: #00af00\">64</span>)     │           <span style=\"color: #00af00; text-decoration-color: #00af00\">256</span> │\n",
       "│ (<span style=\"color: #0087ff; text-decoration-color: #0087ff\">BatchNormalization</span>)            │                        │               │\n",
       "├─────────────────────────────────┼────────────────────────┼───────────────┤\n",
       "│ conv2d_1 (<span style=\"color: #0087ff; text-decoration-color: #0087ff\">Conv2D</span>)               │ (<span style=\"color: #00d7ff; text-decoration-color: #00d7ff\">None</span>, <span style=\"color: #00af00; text-decoration-color: #00af00\">16</span>, <span style=\"color: #00af00; text-decoration-color: #00af00\">16</span>, <span style=\"color: #00af00; text-decoration-color: #00af00\">128</span>)    │        <span style=\"color: #00af00; text-decoration-color: #00af00\">73,856</span> │\n",
       "├─────────────────────────────────┼────────────────────────┼───────────────┤\n",
       "│ activation_1 (<span style=\"color: #0087ff; text-decoration-color: #0087ff\">Activation</span>)       │ (<span style=\"color: #00d7ff; text-decoration-color: #00d7ff\">None</span>, <span style=\"color: #00af00; text-decoration-color: #00af00\">16</span>, <span style=\"color: #00af00; text-decoration-color: #00af00\">16</span>, <span style=\"color: #00af00; text-decoration-color: #00af00\">128</span>)    │             <span style=\"color: #00af00; text-decoration-color: #00af00\">0</span> │\n",
       "├─────────────────────────────────┼────────────────────────┼───────────────┤\n",
       "│ max_pooling2d_1 (<span style=\"color: #0087ff; text-decoration-color: #0087ff\">MaxPooling2D</span>)  │ (<span style=\"color: #00d7ff; text-decoration-color: #00d7ff\">None</span>, <span style=\"color: #00af00; text-decoration-color: #00af00\">8</span>, <span style=\"color: #00af00; text-decoration-color: #00af00\">8</span>, <span style=\"color: #00af00; text-decoration-color: #00af00\">128</span>)      │             <span style=\"color: #00af00; text-decoration-color: #00af00\">0</span> │\n",
       "├─────────────────────────────────┼────────────────────────┼───────────────┤\n",
       "│ batch_normalization_1           │ (<span style=\"color: #00d7ff; text-decoration-color: #00d7ff\">None</span>, <span style=\"color: #00af00; text-decoration-color: #00af00\">8</span>, <span style=\"color: #00af00; text-decoration-color: #00af00\">8</span>, <span style=\"color: #00af00; text-decoration-color: #00af00\">128</span>)      │           <span style=\"color: #00af00; text-decoration-color: #00af00\">512</span> │\n",
       "│ (<span style=\"color: #0087ff; text-decoration-color: #0087ff\">BatchNormalization</span>)            │                        │               │\n",
       "├─────────────────────────────────┼────────────────────────┼───────────────┤\n",
       "│ conv2d_2 (<span style=\"color: #0087ff; text-decoration-color: #0087ff\">Conv2D</span>)               │ (<span style=\"color: #00d7ff; text-decoration-color: #00d7ff\">None</span>, <span style=\"color: #00af00; text-decoration-color: #00af00\">8</span>, <span style=\"color: #00af00; text-decoration-color: #00af00\">8</span>, <span style=\"color: #00af00; text-decoration-color: #00af00\">128</span>)      │       <span style=\"color: #00af00; text-decoration-color: #00af00\">147,584</span> │\n",
       "├─────────────────────────────────┼────────────────────────┼───────────────┤\n",
       "│ activation_2 (<span style=\"color: #0087ff; text-decoration-color: #0087ff\">Activation</span>)       │ (<span style=\"color: #00d7ff; text-decoration-color: #00d7ff\">None</span>, <span style=\"color: #00af00; text-decoration-color: #00af00\">8</span>, <span style=\"color: #00af00; text-decoration-color: #00af00\">8</span>, <span style=\"color: #00af00; text-decoration-color: #00af00\">128</span>)      │             <span style=\"color: #00af00; text-decoration-color: #00af00\">0</span> │\n",
       "├─────────────────────────────────┼────────────────────────┼───────────────┤\n",
       "│ max_pooling2d_2 (<span style=\"color: #0087ff; text-decoration-color: #0087ff\">MaxPooling2D</span>)  │ (<span style=\"color: #00d7ff; text-decoration-color: #00d7ff\">None</span>, <span style=\"color: #00af00; text-decoration-color: #00af00\">4</span>, <span style=\"color: #00af00; text-decoration-color: #00af00\">4</span>, <span style=\"color: #00af00; text-decoration-color: #00af00\">128</span>)      │             <span style=\"color: #00af00; text-decoration-color: #00af00\">0</span> │\n",
       "├─────────────────────────────────┼────────────────────────┼───────────────┤\n",
       "│ batch_normalization_2           │ (<span style=\"color: #00d7ff; text-decoration-color: #00d7ff\">None</span>, <span style=\"color: #00af00; text-decoration-color: #00af00\">4</span>, <span style=\"color: #00af00; text-decoration-color: #00af00\">4</span>, <span style=\"color: #00af00; text-decoration-color: #00af00\">128</span>)      │           <span style=\"color: #00af00; text-decoration-color: #00af00\">512</span> │\n",
       "│ (<span style=\"color: #0087ff; text-decoration-color: #0087ff\">BatchNormalization</span>)            │                        │               │\n",
       "├─────────────────────────────────┼────────────────────────┼───────────────┤\n",
       "│ conv2d_3 (<span style=\"color: #0087ff; text-decoration-color: #0087ff\">Conv2D</span>)               │ (<span style=\"color: #00d7ff; text-decoration-color: #00d7ff\">None</span>, <span style=\"color: #00af00; text-decoration-color: #00af00\">4</span>, <span style=\"color: #00af00; text-decoration-color: #00af00\">4</span>, <span style=\"color: #00af00; text-decoration-color: #00af00\">256</span>)      │       <span style=\"color: #00af00; text-decoration-color: #00af00\">295,168</span> │\n",
       "├─────────────────────────────────┼────────────────────────┼───────────────┤\n",
       "│ activation_3 (<span style=\"color: #0087ff; text-decoration-color: #0087ff\">Activation</span>)       │ (<span style=\"color: #00d7ff; text-decoration-color: #00d7ff\">None</span>, <span style=\"color: #00af00; text-decoration-color: #00af00\">4</span>, <span style=\"color: #00af00; text-decoration-color: #00af00\">4</span>, <span style=\"color: #00af00; text-decoration-color: #00af00\">256</span>)      │             <span style=\"color: #00af00; text-decoration-color: #00af00\">0</span> │\n",
       "├─────────────────────────────────┼────────────────────────┼───────────────┤\n",
       "│ max_pooling2d_3 (<span style=\"color: #0087ff; text-decoration-color: #0087ff\">MaxPooling2D</span>)  │ (<span style=\"color: #00d7ff; text-decoration-color: #00d7ff\">None</span>, <span style=\"color: #00af00; text-decoration-color: #00af00\">2</span>, <span style=\"color: #00af00; text-decoration-color: #00af00\">2</span>, <span style=\"color: #00af00; text-decoration-color: #00af00\">256</span>)      │             <span style=\"color: #00af00; text-decoration-color: #00af00\">0</span> │\n",
       "├─────────────────────────────────┼────────────────────────┼───────────────┤\n",
       "│ batch_normalization_3           │ (<span style=\"color: #00d7ff; text-decoration-color: #00d7ff\">None</span>, <span style=\"color: #00af00; text-decoration-color: #00af00\">2</span>, <span style=\"color: #00af00; text-decoration-color: #00af00\">2</span>, <span style=\"color: #00af00; text-decoration-color: #00af00\">256</span>)      │         <span style=\"color: #00af00; text-decoration-color: #00af00\">1,024</span> │\n",
       "│ (<span style=\"color: #0087ff; text-decoration-color: #0087ff\">BatchNormalization</span>)            │                        │               │\n",
       "├─────────────────────────────────┼────────────────────────┼───────────────┤\n",
       "│ flatten (<span style=\"color: #0087ff; text-decoration-color: #0087ff\">Flatten</span>)               │ (<span style=\"color: #00d7ff; text-decoration-color: #00d7ff\">None</span>, <span style=\"color: #00af00; text-decoration-color: #00af00\">1024</span>)           │             <span style=\"color: #00af00; text-decoration-color: #00af00\">0</span> │\n",
       "├─────────────────────────────────┼────────────────────────┼───────────────┤\n",
       "│ dense (<span style=\"color: #0087ff; text-decoration-color: #0087ff\">Dense</span>)                   │ (<span style=\"color: #00d7ff; text-decoration-color: #00d7ff\">None</span>, <span style=\"color: #00af00; text-decoration-color: #00af00\">512</span>)            │       <span style=\"color: #00af00; text-decoration-color: #00af00\">524,800</span> │\n",
       "├─────────────────────────────────┼────────────────────────┼───────────────┤\n",
       "│ dropout (<span style=\"color: #0087ff; text-decoration-color: #0087ff\">Dropout</span>)               │ (<span style=\"color: #00d7ff; text-decoration-color: #00d7ff\">None</span>, <span style=\"color: #00af00; text-decoration-color: #00af00\">512</span>)            │             <span style=\"color: #00af00; text-decoration-color: #00af00\">0</span> │\n",
       "├─────────────────────────────────┼────────────────────────┼───────────────┤\n",
       "│ batch_normalization_4           │ (<span style=\"color: #00d7ff; text-decoration-color: #00d7ff\">None</span>, <span style=\"color: #00af00; text-decoration-color: #00af00\">512</span>)            │         <span style=\"color: #00af00; text-decoration-color: #00af00\">2,048</span> │\n",
       "│ (<span style=\"color: #0087ff; text-decoration-color: #0087ff\">BatchNormalization</span>)            │                        │               │\n",
       "├─────────────────────────────────┼────────────────────────┼───────────────┤\n",
       "│ dense_1 (<span style=\"color: #0087ff; text-decoration-color: #0087ff\">Dense</span>)                 │ (<span style=\"color: #00d7ff; text-decoration-color: #00d7ff\">None</span>, <span style=\"color: #00af00; text-decoration-color: #00af00\">10</span>)             │         <span style=\"color: #00af00; text-decoration-color: #00af00\">5,130</span> │\n",
       "└─────────────────────────────────┴────────────────────────┴───────────────┘\n",
       "</pre>\n"
      ],
      "text/plain": [
       "┏━━━━━━━━━━━━━━━━━━━━━━━━━━━━━━━━━┳━━━━━━━━━━━━━━━━━━━━━━━━┳━━━━━━━━━━━━━━━┓\n",
       "┃\u001b[1m \u001b[0m\u001b[1mLayer (type)                   \u001b[0m\u001b[1m \u001b[0m┃\u001b[1m \u001b[0m\u001b[1mOutput Shape          \u001b[0m\u001b[1m \u001b[0m┃\u001b[1m \u001b[0m\u001b[1m      Param #\u001b[0m\u001b[1m \u001b[0m┃\n",
       "┡━━━━━━━━━━━━━━━━━━━━━━━━━━━━━━━━━╇━━━━━━━━━━━━━━━━━━━━━━━━╇━━━━━━━━━━━━━━━┩\n",
       "│ conv2d (\u001b[38;5;33mConv2D\u001b[0m)                 │ (\u001b[38;5;45mNone\u001b[0m, \u001b[38;5;34m32\u001b[0m, \u001b[38;5;34m32\u001b[0m, \u001b[38;5;34m64\u001b[0m)     │         \u001b[38;5;34m1,792\u001b[0m │\n",
       "├─────────────────────────────────┼────────────────────────┼───────────────┤\n",
       "│ activation (\u001b[38;5;33mActivation\u001b[0m)         │ (\u001b[38;5;45mNone\u001b[0m, \u001b[38;5;34m32\u001b[0m, \u001b[38;5;34m32\u001b[0m, \u001b[38;5;34m64\u001b[0m)     │             \u001b[38;5;34m0\u001b[0m │\n",
       "├─────────────────────────────────┼────────────────────────┼───────────────┤\n",
       "│ max_pooling2d (\u001b[38;5;33mMaxPooling2D\u001b[0m)    │ (\u001b[38;5;45mNone\u001b[0m, \u001b[38;5;34m16\u001b[0m, \u001b[38;5;34m16\u001b[0m, \u001b[38;5;34m64\u001b[0m)     │             \u001b[38;5;34m0\u001b[0m │\n",
       "├─────────────────────────────────┼────────────────────────┼───────────────┤\n",
       "│ batch_normalization             │ (\u001b[38;5;45mNone\u001b[0m, \u001b[38;5;34m16\u001b[0m, \u001b[38;5;34m16\u001b[0m, \u001b[38;5;34m64\u001b[0m)     │           \u001b[38;5;34m256\u001b[0m │\n",
       "│ (\u001b[38;5;33mBatchNormalization\u001b[0m)            │                        │               │\n",
       "├─────────────────────────────────┼────────────────────────┼───────────────┤\n",
       "│ conv2d_1 (\u001b[38;5;33mConv2D\u001b[0m)               │ (\u001b[38;5;45mNone\u001b[0m, \u001b[38;5;34m16\u001b[0m, \u001b[38;5;34m16\u001b[0m, \u001b[38;5;34m128\u001b[0m)    │        \u001b[38;5;34m73,856\u001b[0m │\n",
       "├─────────────────────────────────┼────────────────────────┼───────────────┤\n",
       "│ activation_1 (\u001b[38;5;33mActivation\u001b[0m)       │ (\u001b[38;5;45mNone\u001b[0m, \u001b[38;5;34m16\u001b[0m, \u001b[38;5;34m16\u001b[0m, \u001b[38;5;34m128\u001b[0m)    │             \u001b[38;5;34m0\u001b[0m │\n",
       "├─────────────────────────────────┼────────────────────────┼───────────────┤\n",
       "│ max_pooling2d_1 (\u001b[38;5;33mMaxPooling2D\u001b[0m)  │ (\u001b[38;5;45mNone\u001b[0m, \u001b[38;5;34m8\u001b[0m, \u001b[38;5;34m8\u001b[0m, \u001b[38;5;34m128\u001b[0m)      │             \u001b[38;5;34m0\u001b[0m │\n",
       "├─────────────────────────────────┼────────────────────────┼───────────────┤\n",
       "│ batch_normalization_1           │ (\u001b[38;5;45mNone\u001b[0m, \u001b[38;5;34m8\u001b[0m, \u001b[38;5;34m8\u001b[0m, \u001b[38;5;34m128\u001b[0m)      │           \u001b[38;5;34m512\u001b[0m │\n",
       "│ (\u001b[38;5;33mBatchNormalization\u001b[0m)            │                        │               │\n",
       "├─────────────────────────────────┼────────────────────────┼───────────────┤\n",
       "│ conv2d_2 (\u001b[38;5;33mConv2D\u001b[0m)               │ (\u001b[38;5;45mNone\u001b[0m, \u001b[38;5;34m8\u001b[0m, \u001b[38;5;34m8\u001b[0m, \u001b[38;5;34m128\u001b[0m)      │       \u001b[38;5;34m147,584\u001b[0m │\n",
       "├─────────────────────────────────┼────────────────────────┼───────────────┤\n",
       "│ activation_2 (\u001b[38;5;33mActivation\u001b[0m)       │ (\u001b[38;5;45mNone\u001b[0m, \u001b[38;5;34m8\u001b[0m, \u001b[38;5;34m8\u001b[0m, \u001b[38;5;34m128\u001b[0m)      │             \u001b[38;5;34m0\u001b[0m │\n",
       "├─────────────────────────────────┼────────────────────────┼───────────────┤\n",
       "│ max_pooling2d_2 (\u001b[38;5;33mMaxPooling2D\u001b[0m)  │ (\u001b[38;5;45mNone\u001b[0m, \u001b[38;5;34m4\u001b[0m, \u001b[38;5;34m4\u001b[0m, \u001b[38;5;34m128\u001b[0m)      │             \u001b[38;5;34m0\u001b[0m │\n",
       "├─────────────────────────────────┼────────────────────────┼───────────────┤\n",
       "│ batch_normalization_2           │ (\u001b[38;5;45mNone\u001b[0m, \u001b[38;5;34m4\u001b[0m, \u001b[38;5;34m4\u001b[0m, \u001b[38;5;34m128\u001b[0m)      │           \u001b[38;5;34m512\u001b[0m │\n",
       "│ (\u001b[38;5;33mBatchNormalization\u001b[0m)            │                        │               │\n",
       "├─────────────────────────────────┼────────────────────────┼───────────────┤\n",
       "│ conv2d_3 (\u001b[38;5;33mConv2D\u001b[0m)               │ (\u001b[38;5;45mNone\u001b[0m, \u001b[38;5;34m4\u001b[0m, \u001b[38;5;34m4\u001b[0m, \u001b[38;5;34m256\u001b[0m)      │       \u001b[38;5;34m295,168\u001b[0m │\n",
       "├─────────────────────────────────┼────────────────────────┼───────────────┤\n",
       "│ activation_3 (\u001b[38;5;33mActivation\u001b[0m)       │ (\u001b[38;5;45mNone\u001b[0m, \u001b[38;5;34m4\u001b[0m, \u001b[38;5;34m4\u001b[0m, \u001b[38;5;34m256\u001b[0m)      │             \u001b[38;5;34m0\u001b[0m │\n",
       "├─────────────────────────────────┼────────────────────────┼───────────────┤\n",
       "│ max_pooling2d_3 (\u001b[38;5;33mMaxPooling2D\u001b[0m)  │ (\u001b[38;5;45mNone\u001b[0m, \u001b[38;5;34m2\u001b[0m, \u001b[38;5;34m2\u001b[0m, \u001b[38;5;34m256\u001b[0m)      │             \u001b[38;5;34m0\u001b[0m │\n",
       "├─────────────────────────────────┼────────────────────────┼───────────────┤\n",
       "│ batch_normalization_3           │ (\u001b[38;5;45mNone\u001b[0m, \u001b[38;5;34m2\u001b[0m, \u001b[38;5;34m2\u001b[0m, \u001b[38;5;34m256\u001b[0m)      │         \u001b[38;5;34m1,024\u001b[0m │\n",
       "│ (\u001b[38;5;33mBatchNormalization\u001b[0m)            │                        │               │\n",
       "├─────────────────────────────────┼────────────────────────┼───────────────┤\n",
       "│ flatten (\u001b[38;5;33mFlatten\u001b[0m)               │ (\u001b[38;5;45mNone\u001b[0m, \u001b[38;5;34m1024\u001b[0m)           │             \u001b[38;5;34m0\u001b[0m │\n",
       "├─────────────────────────────────┼────────────────────────┼───────────────┤\n",
       "│ dense (\u001b[38;5;33mDense\u001b[0m)                   │ (\u001b[38;5;45mNone\u001b[0m, \u001b[38;5;34m512\u001b[0m)            │       \u001b[38;5;34m524,800\u001b[0m │\n",
       "├─────────────────────────────────┼────────────────────────┼───────────────┤\n",
       "│ dropout (\u001b[38;5;33mDropout\u001b[0m)               │ (\u001b[38;5;45mNone\u001b[0m, \u001b[38;5;34m512\u001b[0m)            │             \u001b[38;5;34m0\u001b[0m │\n",
       "├─────────────────────────────────┼────────────────────────┼───────────────┤\n",
       "│ batch_normalization_4           │ (\u001b[38;5;45mNone\u001b[0m, \u001b[38;5;34m512\u001b[0m)            │         \u001b[38;5;34m2,048\u001b[0m │\n",
       "│ (\u001b[38;5;33mBatchNormalization\u001b[0m)            │                        │               │\n",
       "├─────────────────────────────────┼────────────────────────┼───────────────┤\n",
       "│ dense_1 (\u001b[38;5;33mDense\u001b[0m)                 │ (\u001b[38;5;45mNone\u001b[0m, \u001b[38;5;34m10\u001b[0m)             │         \u001b[38;5;34m5,130\u001b[0m │\n",
       "└─────────────────────────────────┴────────────────────────┴───────────────┘\n"
      ]
     },
     "metadata": {},
     "output_type": "display_data"
    },
    {
     "data": {
      "text/html": [
       "<pre style=\"white-space:pre;overflow-x:auto;line-height:normal;font-family:Menlo,'DejaVu Sans Mono',consolas,'Courier New',monospace\"><span style=\"font-weight: bold\"> Total params: </span><span style=\"color: #00af00; text-decoration-color: #00af00\">1,052,682</span> (4.02 MB)\n",
       "</pre>\n"
      ],
      "text/plain": [
       "\u001b[1m Total params: \u001b[0m\u001b[38;5;34m1,052,682\u001b[0m (4.02 MB)\n"
      ]
     },
     "metadata": {},
     "output_type": "display_data"
    },
    {
     "data": {
      "text/html": [
       "<pre style=\"white-space:pre;overflow-x:auto;line-height:normal;font-family:Menlo,'DejaVu Sans Mono',consolas,'Courier New',monospace\"><span style=\"font-weight: bold\"> Trainable params: </span><span style=\"color: #00af00; text-decoration-color: #00af00\">1,050,506</span> (4.01 MB)\n",
       "</pre>\n"
      ],
      "text/plain": [
       "\u001b[1m Trainable params: \u001b[0m\u001b[38;5;34m1,050,506\u001b[0m (4.01 MB)\n"
      ]
     },
     "metadata": {},
     "output_type": "display_data"
    },
    {
     "data": {
      "text/html": [
       "<pre style=\"white-space:pre;overflow-x:auto;line-height:normal;font-family:Menlo,'DejaVu Sans Mono',consolas,'Courier New',monospace\"><span style=\"font-weight: bold\"> Non-trainable params: </span><span style=\"color: #00af00; text-decoration-color: #00af00\">2,176</span> (8.50 KB)\n",
       "</pre>\n"
      ],
      "text/plain": [
       "\u001b[1m Non-trainable params: \u001b[0m\u001b[38;5;34m2,176\u001b[0m (8.50 KB)\n"
      ]
     },
     "metadata": {},
     "output_type": "display_data"
    }
   ],
   "source": [
    "cnn_model = create_model()\n",
    "\n",
    "cnn_model.summary()\n",
    "\n",
    "reduce_lr = ReduceLROnPlateau(monitor='val_loss', factor=0.5, patience=5, min_lr=1e-6)\n",
    "early_stopping = EarlyStopping(monitor='val_loss', patience=10, restore_best_weights=True)\n",
    "\n",
    "optimizer = Adam(learning_rate=0.0005)\n",
    "\n",
    "cnn_model.compile(optimizer=optimizer, loss=CategoricalCrossentropy(), metrics=['accuracy'])"
   ]
  },
  {
   "cell_type": "markdown",
   "id": "9f910646",
   "metadata": {
    "papermill": {
     "duration": 0.019948,
     "end_time": "2024-07-21T07:19:06.358924",
     "exception": false,
     "start_time": "2024-07-21T07:19:06.338976",
     "status": "completed"
    },
    "tags": []
   },
   "source": [
    "## Train Model"
   ]
  },
  {
   "cell_type": "code",
   "execution_count": 15,
   "id": "0fe555d9",
   "metadata": {
    "execution": {
     "iopub.execute_input": "2024-07-21T07:19:06.400744Z",
     "iopub.status.busy": "2024-07-21T07:19:06.400409Z",
     "iopub.status.idle": "2024-07-21T08:36:35.861864Z",
     "shell.execute_reply": "2024-07-21T08:36:35.860902Z"
    },
    "papermill": {
     "duration": 4649.491013,
     "end_time": "2024-07-21T08:36:35.869936",
     "exception": false,
     "start_time": "2024-07-21T07:19:06.378923",
     "status": "completed"
    },
    "tags": []
   },
   "outputs": [
    {
     "name": "stdout",
     "output_type": "stream",
     "text": [
      "Epoch 1/100\n"
     ]
    },
    {
     "name": "stderr",
     "output_type": "stream",
     "text": [
      "/opt/conda/lib/python3.10/site-packages/keras/src/trainers/data_adapters/py_dataset_adapter.py:121: UserWarning: Your `PyDataset` class should call `super().__init__(**kwargs)` in its constructor. `**kwargs` can include `workers`, `use_multiprocessing`, `max_queue_size`. Do not pass these arguments to `fit()`, as they will be ignored.\n",
      "  self._warn_if_super_not_called()\n",
      "WARNING: All log messages before absl::InitializeLog() is called are written to STDERR\n",
      "I0000 00:00:1721546357.031115      71 device_compiler.h:186] Compiled cluster using XLA!  This line is logged at most once for the lifetime of the process.\n",
      "W0000 00:00:1721546357.056337      71 graph_launch.cc:671] Fallback to op-by-op mode because memset node breaks graph update\n",
      "W0000 00:00:1721546365.719145      71 graph_launch.cc:671] Fallback to op-by-op mode because memset node breaks graph update\n",
      "W0000 00:00:1721546412.932411      71 graph_launch.cc:671] Fallback to op-by-op mode because memset node breaks graph update\n"
     ]
    },
    {
     "name": "stdout",
     "output_type": "stream",
     "text": [
      "1407/1407 - 69s - 49ms/step - accuracy: 0.3273 - loss: 2.0457 - val_accuracy: 0.4342 - val_loss: 1.6219 - learning_rate: 5.0000e-04\n",
      "Epoch 2/100\n"
     ]
    },
    {
     "name": "stderr",
     "output_type": "stream",
     "text": [
      "W0000 00:00:1721546415.410450      72 graph_launch.cc:671] Fallback to op-by-op mode because memset node breaks graph update\n"
     ]
    },
    {
     "name": "stdout",
     "output_type": "stream",
     "text": [
      "1407/1407 - 52s - 37ms/step - accuracy: 0.4609 - loss: 1.6241 - val_accuracy: 0.2364 - val_loss: 2.5725 - learning_rate: 5.0000e-04\n",
      "Epoch 3/100\n",
      "1407/1407 - 52s - 37ms/step - accuracy: 0.5302 - loss: 1.4507 - val_accuracy: 0.4976 - val_loss: 1.6272 - learning_rate: 5.0000e-04\n",
      "Epoch 4/100\n",
      "1407/1407 - 53s - 38ms/step - accuracy: 0.5786 - loss: 1.3348 - val_accuracy: 0.6478 - val_loss: 1.1093 - learning_rate: 5.0000e-04\n",
      "Epoch 5/100\n",
      "1407/1407 - 52s - 37ms/step - accuracy: 0.6115 - loss: 1.2470 - val_accuracy: 0.4574 - val_loss: 2.0933 - learning_rate: 5.0000e-04\n",
      "Epoch 6/100\n",
      "1407/1407 - 52s - 37ms/step - accuracy: 0.6382 - loss: 1.1970 - val_accuracy: 0.5446 - val_loss: 1.4212 - learning_rate: 5.0000e-04\n",
      "Epoch 7/100\n",
      "1407/1407 - 52s - 37ms/step - accuracy: 0.6506 - loss: 1.1580 - val_accuracy: 0.6874 - val_loss: 1.0739 - learning_rate: 5.0000e-04\n",
      "Epoch 8/100\n",
      "1407/1407 - 52s - 37ms/step - accuracy: 0.6623 - loss: 1.1359 - val_accuracy: 0.5752 - val_loss: 1.4168 - learning_rate: 5.0000e-04\n",
      "Epoch 9/100\n",
      "1407/1407 - 51s - 36ms/step - accuracy: 0.6714 - loss: 1.1090 - val_accuracy: 0.5898 - val_loss: 1.4129 - learning_rate: 5.0000e-04\n",
      "Epoch 10/100\n",
      "1407/1407 - 51s - 37ms/step - accuracy: 0.6892 - loss: 1.0750 - val_accuracy: 0.4226 - val_loss: 1.9398 - learning_rate: 5.0000e-04\n",
      "Epoch 11/100\n",
      "1407/1407 - 51s - 36ms/step - accuracy: 0.6970 - loss: 1.0651 - val_accuracy: 0.7172 - val_loss: 0.9849 - learning_rate: 5.0000e-04\n",
      "Epoch 12/100\n",
      "1407/1407 - 52s - 37ms/step - accuracy: 0.7081 - loss: 1.0436 - val_accuracy: 0.7394 - val_loss: 0.9689 - learning_rate: 5.0000e-04\n",
      "Epoch 13/100\n",
      "1407/1407 - 51s - 36ms/step - accuracy: 0.7087 - loss: 1.0439 - val_accuracy: 0.6522 - val_loss: 1.2232 - learning_rate: 5.0000e-04\n",
      "Epoch 14/100\n",
      "1407/1407 - 51s - 36ms/step - accuracy: 0.7173 - loss: 1.0232 - val_accuracy: 0.6506 - val_loss: 1.2183 - learning_rate: 5.0000e-04\n",
      "Epoch 15/100\n",
      "1407/1407 - 51s - 36ms/step - accuracy: 0.7198 - loss: 1.0203 - val_accuracy: 0.4798 - val_loss: 1.9445 - learning_rate: 5.0000e-04\n",
      "Epoch 16/100\n",
      "1407/1407 - 52s - 37ms/step - accuracy: 0.7281 - loss: 1.0047 - val_accuracy: 0.3836 - val_loss: 2.3892 - learning_rate: 5.0000e-04\n",
      "Epoch 17/100\n",
      "1407/1407 - 51s - 36ms/step - accuracy: 0.7300 - loss: 0.9992 - val_accuracy: 0.7068 - val_loss: 1.0663 - learning_rate: 5.0000e-04\n",
      "Epoch 18/100\n",
      "1407/1407 - 51s - 36ms/step - accuracy: 0.7522 - loss: 0.9321 - val_accuracy: 0.7020 - val_loss: 1.0897 - learning_rate: 2.5000e-04\n",
      "Epoch 19/100\n",
      "1407/1407 - 51s - 36ms/step - accuracy: 0.7609 - loss: 0.9022 - val_accuracy: 0.7854 - val_loss: 0.8549 - learning_rate: 2.5000e-04\n",
      "Epoch 20/100\n",
      "1407/1407 - 51s - 37ms/step - accuracy: 0.7663 - loss: 0.8845 - val_accuracy: 0.7864 - val_loss: 0.8272 - learning_rate: 2.5000e-04\n",
      "Epoch 21/100\n",
      "1407/1407 - 51s - 36ms/step - accuracy: 0.7703 - loss: 0.8708 - val_accuracy: 0.7940 - val_loss: 0.7925 - learning_rate: 2.5000e-04\n",
      "Epoch 22/100\n",
      "1407/1407 - 51s - 36ms/step - accuracy: 0.7714 - loss: 0.8602 - val_accuracy: 0.7370 - val_loss: 0.9657 - learning_rate: 2.5000e-04\n",
      "Epoch 23/100\n",
      "1407/1407 - 51s - 37ms/step - accuracy: 0.7725 - loss: 0.8529 - val_accuracy: 0.7660 - val_loss: 0.9019 - learning_rate: 2.5000e-04\n",
      "Epoch 24/100\n",
      "1407/1407 - 52s - 37ms/step - accuracy: 0.7732 - loss: 0.8463 - val_accuracy: 0.8108 - val_loss: 0.7359 - learning_rate: 2.5000e-04\n",
      "Epoch 25/100\n",
      "1407/1407 - 51s - 36ms/step - accuracy: 0.7803 - loss: 0.8308 - val_accuracy: 0.7426 - val_loss: 0.9774 - learning_rate: 2.5000e-04\n",
      "Epoch 26/100\n",
      "1407/1407 - 51s - 36ms/step - accuracy: 0.7799 - loss: 0.8296 - val_accuracy: 0.7740 - val_loss: 0.8594 - learning_rate: 2.5000e-04\n",
      "Epoch 27/100\n",
      "1407/1407 - 51s - 36ms/step - accuracy: 0.7820 - loss: 0.8208 - val_accuracy: 0.8016 - val_loss: 0.7625 - learning_rate: 2.5000e-04\n",
      "Epoch 28/100\n",
      "1407/1407 - 51s - 37ms/step - accuracy: 0.7817 - loss: 0.8166 - val_accuracy: 0.7966 - val_loss: 0.7697 - learning_rate: 2.5000e-04\n",
      "Epoch 29/100\n",
      "1407/1407 - 51s - 36ms/step - accuracy: 0.7850 - loss: 0.8123 - val_accuracy: 0.8198 - val_loss: 0.7204 - learning_rate: 2.5000e-04\n",
      "Epoch 30/100\n",
      "1407/1407 - 51s - 36ms/step - accuracy: 0.7854 - loss: 0.8082 - val_accuracy: 0.7756 - val_loss: 0.8391 - learning_rate: 2.5000e-04\n",
      "Epoch 31/100\n",
      "1407/1407 - 52s - 37ms/step - accuracy: 0.7857 - loss: 0.7976 - val_accuracy: 0.8102 - val_loss: 0.7330 - learning_rate: 2.5000e-04\n",
      "Epoch 32/100\n",
      "1407/1407 - 53s - 37ms/step - accuracy: 0.7893 - loss: 0.7881 - val_accuracy: 0.7722 - val_loss: 0.8638 - learning_rate: 2.5000e-04\n",
      "Epoch 33/100\n",
      "1407/1407 - 51s - 36ms/step - accuracy: 0.7903 - loss: 0.7915 - val_accuracy: 0.7960 - val_loss: 0.8118 - learning_rate: 2.5000e-04\n",
      "Epoch 34/100\n",
      "1407/1407 - 51s - 37ms/step - accuracy: 0.7958 - loss: 0.7782 - val_accuracy: 0.7490 - val_loss: 0.9025 - learning_rate: 2.5000e-04\n",
      "Epoch 35/100\n",
      "1407/1407 - 51s - 36ms/step - accuracy: 0.8020 - loss: 0.7536 - val_accuracy: 0.8154 - val_loss: 0.7308 - learning_rate: 1.2500e-04\n",
      "Epoch 36/100\n",
      "1407/1407 - 52s - 37ms/step - accuracy: 0.8087 - loss: 0.7339 - val_accuracy: 0.8370 - val_loss: 0.6645 - learning_rate: 1.2500e-04\n",
      "Epoch 37/100\n",
      "1407/1407 - 51s - 36ms/step - accuracy: 0.8119 - loss: 0.7219 - val_accuracy: 0.8278 - val_loss: 0.6841 - learning_rate: 1.2500e-04\n",
      "Epoch 38/100\n",
      "1407/1407 - 51s - 36ms/step - accuracy: 0.8143 - loss: 0.7107 - val_accuracy: 0.8152 - val_loss: 0.7197 - learning_rate: 1.2500e-04\n",
      "Epoch 39/100\n",
      "1407/1407 - 51s - 36ms/step - accuracy: 0.8119 - loss: 0.7109 - val_accuracy: 0.8290 - val_loss: 0.6879 - learning_rate: 1.2500e-04\n",
      "Epoch 40/100\n",
      "1407/1407 - 52s - 37ms/step - accuracy: 0.8138 - loss: 0.7044 - val_accuracy: 0.7794 - val_loss: 0.8252 - learning_rate: 1.2500e-04\n",
      "Epoch 41/100\n",
      "1407/1407 - 51s - 36ms/step - accuracy: 0.8187 - loss: 0.6933 - val_accuracy: 0.8378 - val_loss: 0.6500 - learning_rate: 1.2500e-04\n",
      "Epoch 42/100\n",
      "1407/1407 - 54s - 38ms/step - accuracy: 0.8142 - loss: 0.7032 - val_accuracy: 0.8464 - val_loss: 0.6270 - learning_rate: 1.2500e-04\n",
      "Epoch 43/100\n",
      "1407/1407 - 54s - 38ms/step - accuracy: 0.8204 - loss: 0.6855 - val_accuracy: 0.7766 - val_loss: 0.8359 - learning_rate: 1.2500e-04\n",
      "Epoch 44/100\n",
      "1407/1407 - 53s - 38ms/step - accuracy: 0.8178 - loss: 0.6854 - val_accuracy: 0.8520 - val_loss: 0.6035 - learning_rate: 1.2500e-04\n",
      "Epoch 45/100\n",
      "1407/1407 - 52s - 37ms/step - accuracy: 0.8191 - loss: 0.6805 - val_accuracy: 0.8342 - val_loss: 0.6659 - learning_rate: 1.2500e-04\n",
      "Epoch 46/100\n",
      "1407/1407 - 51s - 36ms/step - accuracy: 0.8245 - loss: 0.6766 - val_accuracy: 0.8396 - val_loss: 0.6498 - learning_rate: 1.2500e-04\n",
      "Epoch 47/100\n",
      "1407/1407 - 51s - 36ms/step - accuracy: 0.8225 - loss: 0.6753 - val_accuracy: 0.7890 - val_loss: 0.8023 - learning_rate: 1.2500e-04\n",
      "Epoch 48/100\n",
      "1407/1407 - 52s - 37ms/step - accuracy: 0.8229 - loss: 0.6729 - val_accuracy: 0.8462 - val_loss: 0.6211 - learning_rate: 1.2500e-04\n",
      "Epoch 49/100\n",
      "1407/1407 - 51s - 36ms/step - accuracy: 0.8232 - loss: 0.6665 - val_accuracy: 0.8480 - val_loss: 0.6168 - learning_rate: 1.2500e-04\n",
      "Epoch 50/100\n",
      "1407/1407 - 51s - 36ms/step - accuracy: 0.8306 - loss: 0.6486 - val_accuracy: 0.8270 - val_loss: 0.6827 - learning_rate: 6.2500e-05\n",
      "Epoch 51/100\n",
      "1407/1407 - 51s - 36ms/step - accuracy: 0.8288 - loss: 0.6498 - val_accuracy: 0.8218 - val_loss: 0.6951 - learning_rate: 6.2500e-05\n",
      "Epoch 52/100\n",
      "1407/1407 - 53s - 37ms/step - accuracy: 0.8349 - loss: 0.6352 - val_accuracy: 0.8556 - val_loss: 0.5950 - learning_rate: 6.2500e-05\n",
      "Epoch 53/100\n",
      "1407/1407 - 51s - 37ms/step - accuracy: 0.8365 - loss: 0.6264 - val_accuracy: 0.8560 - val_loss: 0.5813 - learning_rate: 6.2500e-05\n",
      "Epoch 54/100\n",
      "1407/1407 - 51s - 36ms/step - accuracy: 0.8359 - loss: 0.6288 - val_accuracy: 0.8346 - val_loss: 0.6508 - learning_rate: 6.2500e-05\n",
      "Epoch 55/100\n",
      "1407/1407 - 51s - 36ms/step - accuracy: 0.8348 - loss: 0.6290 - val_accuracy: 0.8496 - val_loss: 0.6015 - learning_rate: 6.2500e-05\n",
      "Epoch 56/100\n",
      "1407/1407 - 52s - 37ms/step - accuracy: 0.8385 - loss: 0.6169 - val_accuracy: 0.8164 - val_loss: 0.7176 - learning_rate: 6.2500e-05\n",
      "Epoch 57/100\n",
      "1407/1407 - 52s - 37ms/step - accuracy: 0.8398 - loss: 0.6163 - val_accuracy: 0.8474 - val_loss: 0.6152 - learning_rate: 6.2500e-05\n",
      "Epoch 58/100\n",
      "1407/1407 - 52s - 37ms/step - accuracy: 0.8385 - loss: 0.6130 - val_accuracy: 0.8546 - val_loss: 0.5978 - learning_rate: 6.2500e-05\n",
      "Epoch 59/100\n",
      "1407/1407 - 51s - 37ms/step - accuracy: 0.8444 - loss: 0.5969 - val_accuracy: 0.8510 - val_loss: 0.5950 - learning_rate: 3.1250e-05\n",
      "Epoch 60/100\n",
      "1407/1407 - 53s - 37ms/step - accuracy: 0.8417 - loss: 0.6044 - val_accuracy: 0.8488 - val_loss: 0.6096 - learning_rate: 3.1250e-05\n",
      "Epoch 61/100\n",
      "1407/1407 - 52s - 37ms/step - accuracy: 0.8456 - loss: 0.5914 - val_accuracy: 0.8600 - val_loss: 0.5767 - learning_rate: 3.1250e-05\n",
      "Epoch 62/100\n",
      "1407/1407 - 51s - 37ms/step - accuracy: 0.8446 - loss: 0.5948 - val_accuracy: 0.8556 - val_loss: 0.5900 - learning_rate: 3.1250e-05\n",
      "Epoch 63/100\n",
      "1407/1407 - 51s - 36ms/step - accuracy: 0.8469 - loss: 0.5906 - val_accuracy: 0.8476 - val_loss: 0.6218 - learning_rate: 3.1250e-05\n",
      "Epoch 64/100\n",
      "1407/1407 - 51s - 36ms/step - accuracy: 0.8475 - loss: 0.5855 - val_accuracy: 0.8458 - val_loss: 0.6126 - learning_rate: 3.1250e-05\n",
      "Epoch 65/100\n",
      "1407/1407 - 51s - 36ms/step - accuracy: 0.8455 - loss: 0.5874 - val_accuracy: 0.8538 - val_loss: 0.5838 - learning_rate: 3.1250e-05\n",
      "Epoch 66/100\n",
      "1407/1407 - 51s - 36ms/step - accuracy: 0.8486 - loss: 0.5820 - val_accuracy: 0.8616 - val_loss: 0.5820 - learning_rate: 3.1250e-05\n",
      "Epoch 67/100\n",
      "1407/1407 - 52s - 37ms/step - accuracy: 0.8491 - loss: 0.5808 - val_accuracy: 0.8670 - val_loss: 0.5572 - learning_rate: 1.5625e-05\n",
      "Epoch 68/100\n",
      "1407/1407 - 51s - 36ms/step - accuracy: 0.8514 - loss: 0.5769 - val_accuracy: 0.8608 - val_loss: 0.5691 - learning_rate: 1.5625e-05\n",
      "Epoch 69/100\n",
      "1407/1407 - 51s - 36ms/step - accuracy: 0.8502 - loss: 0.5774 - val_accuracy: 0.8596 - val_loss: 0.5704 - learning_rate: 1.5625e-05\n",
      "Epoch 70/100\n",
      "1407/1407 - 51s - 36ms/step - accuracy: 0.8502 - loss: 0.5760 - val_accuracy: 0.8618 - val_loss: 0.5744 - learning_rate: 1.5625e-05\n",
      "Epoch 71/100\n",
      "1407/1407 - 51s - 36ms/step - accuracy: 0.8525 - loss: 0.5727 - val_accuracy: 0.8588 - val_loss: 0.5739 - learning_rate: 1.5625e-05\n",
      "Epoch 72/100\n",
      "1407/1407 - 52s - 37ms/step - accuracy: 0.8500 - loss: 0.5706 - val_accuracy: 0.8618 - val_loss: 0.5660 - learning_rate: 1.5625e-05\n",
      "Epoch 73/100\n",
      "1407/1407 - 51s - 36ms/step - accuracy: 0.8528 - loss: 0.5694 - val_accuracy: 0.8588 - val_loss: 0.5759 - learning_rate: 7.8125e-06\n",
      "Epoch 74/100\n",
      "1407/1407 - 51s - 36ms/step - accuracy: 0.8522 - loss: 0.5693 - val_accuracy: 0.8622 - val_loss: 0.5641 - learning_rate: 7.8125e-06\n",
      "Epoch 75/100\n",
      "1407/1407 - 51s - 36ms/step - accuracy: 0.8527 - loss: 0.5666 - val_accuracy: 0.8664 - val_loss: 0.5576 - learning_rate: 7.8125e-06\n",
      "Epoch 76/100\n",
      "1407/1407 - 52s - 37ms/step - accuracy: 0.8486 - loss: 0.5774 - val_accuracy: 0.8622 - val_loss: 0.5635 - learning_rate: 7.8125e-06\n",
      "Epoch 77/100\n",
      "1407/1407 - 51s - 36ms/step - accuracy: 0.8508 - loss: 0.5729 - val_accuracy: 0.8634 - val_loss: 0.5533 - learning_rate: 7.8125e-06\n",
      "Epoch 78/100\n",
      "1407/1407 - 51s - 36ms/step - accuracy: 0.8520 - loss: 0.5689 - val_accuracy: 0.8588 - val_loss: 0.5737 - learning_rate: 7.8125e-06\n",
      "Epoch 79/100\n",
      "1407/1407 - 51s - 36ms/step - accuracy: 0.8510 - loss: 0.5678 - val_accuracy: 0.8634 - val_loss: 0.5573 - learning_rate: 7.8125e-06\n",
      "Epoch 80/100\n",
      "1407/1407 - 51s - 36ms/step - accuracy: 0.8569 - loss: 0.5548 - val_accuracy: 0.8658 - val_loss: 0.5532 - learning_rate: 7.8125e-06\n",
      "Epoch 81/100\n",
      "1407/1407 - 51s - 36ms/step - accuracy: 0.8535 - loss: 0.5623 - val_accuracy: 0.8576 - val_loss: 0.5773 - learning_rate: 7.8125e-06\n",
      "Epoch 82/100\n",
      "1407/1407 - 51s - 36ms/step - accuracy: 0.8553 - loss: 0.5638 - val_accuracy: 0.8634 - val_loss: 0.5652 - learning_rate: 7.8125e-06\n",
      "Epoch 83/100\n",
      "1407/1407 - 51s - 36ms/step - accuracy: 0.8541 - loss: 0.5638 - val_accuracy: 0.8618 - val_loss: 0.5666 - learning_rate: 7.8125e-06\n",
      "Epoch 84/100\n",
      "1407/1407 - 51s - 36ms/step - accuracy: 0.8552 - loss: 0.5629 - val_accuracy: 0.8626 - val_loss: 0.5635 - learning_rate: 7.8125e-06\n",
      "Epoch 85/100\n",
      "1407/1407 - 51s - 36ms/step - accuracy: 0.8530 - loss: 0.5669 - val_accuracy: 0.8670 - val_loss: 0.5579 - learning_rate: 7.8125e-06\n",
      "Epoch 86/100\n",
      "1407/1407 - 52s - 37ms/step - accuracy: 0.8558 - loss: 0.5633 - val_accuracy: 0.8594 - val_loss: 0.5709 - learning_rate: 3.9063e-06\n",
      "Epoch 87/100\n",
      "1407/1407 - 51s - 36ms/step - accuracy: 0.8553 - loss: 0.5608 - val_accuracy: 0.8630 - val_loss: 0.5600 - learning_rate: 3.9063e-06\n",
      "Epoch 88/100\n",
      "1407/1407 - 51s - 36ms/step - accuracy: 0.8545 - loss: 0.5599 - val_accuracy: 0.8656 - val_loss: 0.5559 - learning_rate: 3.9063e-06\n",
      "Epoch 89/100\n",
      "1407/1407 - 51s - 36ms/step - accuracy: 0.8542 - loss: 0.5619 - val_accuracy: 0.8610 - val_loss: 0.5640 - learning_rate: 3.9063e-06\n",
      "Epoch 90/100\n",
      "1407/1407 - 51s - 36ms/step - accuracy: 0.8520 - loss: 0.5666 - val_accuracy: 0.8608 - val_loss: 0.5640 - learning_rate: 3.9063e-06\n"
     ]
    }
   ],
   "source": [
    "# Train model and use val set for validation\n",
    "history = cnn_model.fit(\n",
    "    train_generator,\n",
    "    epochs=100, \n",
    "    validation_data=validation_generator,\n",
    "    verbose=2,\n",
    "    callbacks=[reduce_lr, early_stopping]\n",
    ")"
   ]
  },
  {
   "cell_type": "markdown",
   "id": "287e6423",
   "metadata": {
    "papermill": {
     "duration": 0.033845,
     "end_time": "2024-07-21T08:36:35.937946",
     "exception": false,
     "start_time": "2024-07-21T08:36:35.904101",
     "status": "completed"
    },
    "tags": []
   },
   "source": [
    "## Predict on Val Set"
   ]
  },
  {
   "cell_type": "code",
   "execution_count": 16,
   "id": "28c3cd9b",
   "metadata": {
    "execution": {
     "iopub.execute_input": "2024-07-21T08:36:36.008201Z",
     "iopub.status.busy": "2024-07-21T08:36:36.007665Z",
     "iopub.status.idle": "2024-07-21T08:36:38.999825Z",
     "shell.execute_reply": "2024-07-21T08:36:38.998757Z"
    },
    "papermill": {
     "duration": 3.029967,
     "end_time": "2024-07-21T08:36:39.001996",
     "exception": false,
     "start_time": "2024-07-21T08:36:35.972029",
     "status": "completed"
    },
    "tags": []
   },
   "outputs": [
    {
     "name": "stdout",
     "output_type": "stream",
     "text": [
      "\u001b[1m 16/157\u001b[0m \u001b[32m━━\u001b[0m\u001b[37m━━━━━━━━━━━━━━━━━━\u001b[0m \u001b[1m1s\u001b[0m 11ms/step"
     ]
    },
    {
     "name": "stderr",
     "output_type": "stream",
     "text": [
      "W0000 00:00:1721550996.627107      72 graph_launch.cc:671] Fallback to op-by-op mode because memset node breaks graph update\n"
     ]
    },
    {
     "name": "stdout",
     "output_type": "stream",
     "text": [
      "\u001b[1m157/157\u001b[0m \u001b[32m━━━━━━━━━━━━━━━━━━━━\u001b[0m\u001b[37m\u001b[0m \u001b[1m3s\u001b[0m 15ms/step\n"
     ]
    },
    {
     "name": "stderr",
     "output_type": "stream",
     "text": [
      "W0000 00:00:1721550998.896602      73 graph_launch.cc:671] Fallback to op-by-op mode because memset node breaks graph update\n"
     ]
    }
   ],
   "source": [
    "# Make prediction\n",
    "predictions = cnn_model.predict(validation_generator)"
   ]
  },
  {
   "cell_type": "code",
   "execution_count": 17,
   "id": "d03b43b4",
   "metadata": {
    "execution": {
     "iopub.execute_input": "2024-07-21T08:36:39.077877Z",
     "iopub.status.busy": "2024-07-21T08:36:39.077583Z",
     "iopub.status.idle": "2024-07-21T08:36:41.024098Z",
     "shell.execute_reply": "2024-07-21T08:36:41.023246Z"
    },
    "papermill": {
     "duration": 1.98647,
     "end_time": "2024-07-21T08:36:41.026184",
     "exception": false,
     "start_time": "2024-07-21T08:36:39.039714",
     "status": "completed"
    },
    "tags": []
   },
   "outputs": [
    {
     "name": "stdout",
     "output_type": "stream",
     "text": [
      "\u001b[1m157/157\u001b[0m \u001b[32m━━━━━━━━━━━━━━━━━━━━\u001b[0m\u001b[37m\u001b[0m \u001b[1m2s\u001b[0m 12ms/step - accuracy: 0.8577 - loss: 0.5704\n",
      "Val Loss:     0.5531666874885559\n",
      "Val Accuracy: 0.8658000230789185\n"
     ]
    }
   ],
   "source": [
    "# Accuracy\n",
    "val_loss, val_accuracy = cnn_model.evaluate(validation_generator, batch_size=BATCH_SIZE)\n",
    "print(f\"Val Loss:     {val_loss}\")\n",
    "print(f\"Val Accuracy: {val_accuracy}\")"
   ]
  },
  {
   "cell_type": "code",
   "execution_count": 18,
   "id": "157f14a2",
   "metadata": {
    "execution": {
     "iopub.execute_input": "2024-07-21T08:36:41.109298Z",
     "iopub.status.busy": "2024-07-21T08:36:41.108651Z",
     "iopub.status.idle": "2024-07-21T08:36:43.078821Z",
     "shell.execute_reply": "2024-07-21T08:36:43.078064Z"
    },
    "papermill": {
     "duration": 2.013768,
     "end_time": "2024-07-21T08:36:43.080894",
     "exception": false,
     "start_time": "2024-07-21T08:36:41.067126",
     "status": "completed"
    },
    "tags": []
   },
   "outputs": [
    {
     "name": "stdout",
     "output_type": "stream",
     "text": [
      "\u001b[1m157/157\u001b[0m \u001b[32m━━━━━━━━━━━━━━━━━━━━\u001b[0m\u001b[37m\u001b[0m \u001b[1m2s\u001b[0m 12ms/step\n"
     ]
    }
   ],
   "source": [
    "# Prepare true and prediction values\n",
    "validation_generator.reset()\n",
    "Y_pred = cnn_model.predict(validation_generator)\n",
    "y_pred = np.argmax(Y_pred, axis=1)\n",
    "y_true = validation_generator.classes"
   ]
  },
  {
   "cell_type": "code",
   "execution_count": 19,
   "id": "7d44c12a",
   "metadata": {
    "execution": {
     "iopub.execute_input": "2024-07-21T08:36:43.168840Z",
     "iopub.status.busy": "2024-07-21T08:36:43.168290Z",
     "iopub.status.idle": "2024-07-21T08:36:43.697466Z",
     "shell.execute_reply": "2024-07-21T08:36:43.696631Z"
    },
    "papermill": {
     "duration": 0.575251,
     "end_time": "2024-07-21T08:36:43.699717",
     "exception": false,
     "start_time": "2024-07-21T08:36:43.124466",
     "status": "completed"
    },
    "tags": []
   },
   "outputs": [
    {
     "data": {
      "image/png": "[encoded data removed]",
      "text/plain": [
       "<Figure size 640x480 with 2 Axes>"
      ]
     },
     "metadata": {},
     "output_type": "display_data"
    }
   ],
   "source": [
    "# Confusion matrix\n",
    "cm = confusion_matrix(y_true, y_pred)\n",
    "cm_display = ConfusionMatrixDisplay(confusion_matrix=cm, display_labels=validation_generator.class_indices.keys())\n",
    "cm_display.plot(cmap=plt.cm.Blues)\n",
    "plt.title('Confusion Matrix')\n",
    "plt.show()"
   ]
  },
  {
   "cell_type": "markdown",
   "id": "37169484",
   "metadata": {
    "papermill": {
     "duration": 0.04411,
     "end_time": "2024-07-21T08:36:47.062816",
     "exception": false,
     "start_time": "2024-07-21T08:36:47.018706",
     "status": "completed"
    },
    "tags": []
   },
   "source": [
    "# **2. Vision Transformers**"
   ]
  },
  {
   "cell_type": "code",
   "execution_count": null,
   "id": "56ec3583",
   "metadata": {
    "execution": {
     "iopub.execute_input": "2024-07-21T08:36:47.242101Z",
     "iopub.status.busy": "2024-07-21T08:36:47.241840Z",
     "iopub.status.idle": "2024-07-21T08:36:53.574085Z",
     "shell.execute_reply": "2024-07-21T08:36:53.573329Z"
    },
    "papermill": {
     "duration": 6.380052,
     "end_time": "2024-07-21T08:36:53.576266",
     "exception": false,
     "start_time": "2024-07-21T08:36:47.196214",
     "status": "completed"
    },
    "tags": []
   },
   "outputs": [],
   "source": [
    "import os\n",
    "import pandas as pd\n",
    "import numpy as np\n",
    "from numpy import inf\n",
    "import matplotlib.pyplot as plt\n",
    "from matplotlib import pyplot\n",
    "from datasets import Dataset, Array3D, ClassLabel, Features, load_dataset\n",
    "from PIL import Image\n",
    "\n",
    "import torch\n",
    "import torch.nn as nn\n",
    "from torchinfo import summary\n",
    "from sklearn.utils.class_weight import compute_class_weight\n",
    "from tqdm import tqdm\n",
    "from transformers import AdamW, ViTFeatureExtractor, ViTModel\n",
    "\n",
    "from sklearn.metrics import confusion_matrix"
   ]
  },
  {
   "cell_type": "code",
   "execution_count": null,
   "id": "c343427d",
   "metadata": {
    "execution": {
     "iopub.execute_input": "2024-07-21T08:36:53.667535Z",
     "iopub.status.busy": "2024-07-21T08:36:53.666968Z",
     "iopub.status.idle": "2024-07-21T08:36:53.701152Z",
     "shell.execute_reply": "2024-07-21T08:36:53.700136Z"
    },
    "papermill": {
     "duration": 0.081751,
     "end_time": "2024-07-21T08:36:53.703115",
     "exception": false,
     "start_time": "2024-07-21T08:36:53.621364",
     "status": "completed"
    },
    "tags": []
   },
   "outputs": [
    {
     "name": "stdout",
     "output_type": "stream",
     "text": [
      "Num GPUs Available: 2\n",
      "Using 2 GPUs\n"
     ]
    }
   ],
   "source": [
    "# Make sure training with GPU\n",
    "num_gpus = torch.cuda.device_count()\n",
    "print(f\"Num GPUs Available: {num_gpus}\")\n",
    "\n",
    "if num_gpus >= 2:\n",
    "    device = torch.device(\"cuda:0\")\n",
    "    device_ids = [0, 1]\n",
    "    print(\"Using 2 GPUs\")\n",
    "elif num_gpus == 1:\n",
    "    device = torch.device(\"cuda:0\")\n",
    "    device_ids = [0]\n",
    "    print(\"Using 1 GPU\")\n",
    "else:\n",
    "    device = torch.device(\"cpu\")\n",
    "    device_ids = []\n",
    "    print(\"Using CPU\")"
   ]
  },
  {
   "cell_type": "markdown",
   "id": "457322f4",
   "metadata": {
    "papermill": {
     "duration": 0.04489,
     "end_time": "2024-07-21T08:36:53.792422",
     "exception": false,
     "start_time": "2024-07-21T08:36:53.747532",
     "status": "completed"
    },
    "tags": []
   },
   "source": [
    "## Load Train and Validation Set"
   ]
  },
  {
   "cell_type": "code",
   "execution_count": null,
   "id": "0f46634f",
   "metadata": {
    "execution": {
     "iopub.execute_input": "2024-07-21T08:36:53.882270Z",
     "iopub.status.busy": "2024-07-21T08:36:53.881987Z",
     "iopub.status.idle": "2024-07-21T08:36:53.900957Z",
     "shell.execute_reply": "2024-07-21T08:36:53.900171Z"
    },
    "papermill": {
     "duration": 0.065975,
     "end_time": "2024-07-21T08:36:53.902802",
     "exception": false,
     "start_time": "2024-07-21T08:36:53.836827",
     "status": "completed"
    },
    "tags": []
   },
   "outputs": [],
   "source": [
    "# Use train folder for train and val set\n",
    "train_folder = '/kaggle/input/nzmsa-2024/cifar10_images/train'\n",
    "train_csv = '/kaggle/input/nzmsa-2024/train.csv'\n",
    "train_df = pd.read_csv(train_csv)"
   ]
  },
  {
   "cell_type": "code",
   "execution_count": null,
   "id": "7f2079fb",
   "metadata": {
    "execution": {
     "iopub.execute_input": "2024-07-21T08:36:53.992847Z",
     "iopub.status.busy": "2024-07-21T08:36:53.992568Z",
     "iopub.status.idle": "2024-07-21T08:36:53.996982Z",
     "shell.execute_reply": "2024-07-21T08:36:53.996178Z"
    },
    "papermill": {
     "duration": 0.051706,
     "end_time": "2024-07-21T08:36:53.998782",
     "exception": false,
     "start_time": "2024-07-21T08:36:53.947076",
     "status": "completed"
    },
    "tags": []
   },
   "outputs": [],
   "source": [
    "# Load images and labels\n",
    "def load_image(image_id, folder):\n",
    "    image_path = os.path.join(folder, f'image_{image_id}.png')\n",
    "    image = Image.open(image_path).convert('RGB')\n",
    "    return np.array(image)"
   ]
  },
  {
   "cell_type": "code",
   "execution_count": null,
   "id": "4f056761",
   "metadata": {
    "execution": {
     "iopub.execute_input": "2024-07-21T08:36:54.088167Z",
     "iopub.status.busy": "2024-07-21T08:36:54.087902Z",
     "iopub.status.idle": "2024-07-21T08:37:16.716684Z",
     "shell.execute_reply": "2024-07-21T08:37:16.715861Z"
    },
    "papermill": {
     "duration": 22.676584,
     "end_time": "2024-07-21T08:37:16.719284",
     "exception": false,
     "start_time": "2024-07-21T08:36:54.042700",
     "status": "completed"
    },
    "tags": []
   },
   "outputs": [],
   "source": [
    "# Create dict for train and val\n",
    "data = {\n",
    "    'img': [load_image(i, train_folder) for i in train_df['id'][:15000,]],\n",
    "    'label': train_df['label'][:15000,].tolist()\n",
    "}"
   ]
  },
  {
   "cell_type": "code",
   "execution_count": null,
   "id": "e3da7cd9",
   "metadata": {
    "execution": {
     "iopub.execute_input": "2024-07-21T08:37:16.810442Z",
     "iopub.status.busy": "2024-07-21T08:37:16.809852Z",
     "iopub.status.idle": "2024-07-21T08:37:20.162474Z",
     "shell.execute_reply": "2024-07-21T08:37:20.161422Z"
    },
    "papermill": {
     "duration": 3.403707,
     "end_time": "2024-07-21T08:37:20.168458",
     "exception": false,
     "start_time": "2024-07-21T08:37:16.764751",
     "status": "completed"
    },
    "tags": []
   },
   "outputs": [
    {
     "data": {
      "text/plain": [
       "Dataset({\n",
       "    features: ['img', 'label'],\n",
       "    num_rows: 15000\n",
       "})"
      ]
     },
     "execution_count": 29,
     "metadata": {},
     "output_type": "execute_result"
    }
   ],
   "source": [
    "# Dateset instance for train and val\n",
    "dataset = Dataset.from_dict(data)\n",
    "dataset"
   ]
  },
  {
   "cell_type": "code",
   "execution_count": null,
   "id": "246198d8",
   "metadata": {
    "execution": {
     "iopub.execute_input": "2024-07-21T08:37:20.279730Z",
     "iopub.status.busy": "2024-07-21T08:37:20.279066Z",
     "iopub.status.idle": "2024-07-21T08:37:20.304520Z",
     "shell.execute_reply": "2024-07-21T08:37:20.303625Z"
    },
    "papermill": {
     "duration": 0.076263,
     "end_time": "2024-07-21T08:37:20.306523",
     "exception": false,
     "start_time": "2024-07-21T08:37:20.230260",
     "status": "completed"
    },
    "tags": []
   },
   "outputs": [],
   "source": [
    "# Split train and val\n",
    "splits = dataset.train_test_split(test_size=0.1)\n",
    "train_ds = splits['train']\n",
    "val_ds = splits['test']"
   ]
  },
  {
   "cell_type": "markdown",
   "id": "a298ce84",
   "metadata": {
    "papermill": {
     "duration": 0.044733,
     "end_time": "2024-07-21T08:37:20.395453",
     "exception": false,
     "start_time": "2024-07-21T08:37:20.350720",
     "status": "completed"
    },
    "tags": []
   },
   "source": [
    "## Load Test Set"
   ]
  },
  {
   "cell_type": "code",
   "execution_count": null,
   "id": "69a3350e",
   "metadata": {
    "execution": {
     "iopub.execute_input": "2024-07-21T08:37:20.487152Z",
     "iopub.status.busy": "2024-07-21T08:37:20.486470Z",
     "iopub.status.idle": "2024-07-21T08:37:20.490787Z",
     "shell.execute_reply": "2024-07-21T08:37:20.489939Z"
    },
    "papermill": {
     "duration": 0.05318,
     "end_time": "2024-07-21T08:37:20.492783",
     "exception": false,
     "start_time": "2024-07-21T08:37:20.439603",
     "status": "completed"
    },
    "tags": []
   },
   "outputs": [],
   "source": [
    "# Test folder\n",
    "test_folder = '/kaggle/input/nzmsa-2024/cifar10_images/test'"
   ]
  },
  {
   "cell_type": "code",
   "execution_count": null,
   "id": "0cb12f81",
   "metadata": {
    "execution": {
     "iopub.execute_input": "2024-07-21T08:37:20.583828Z",
     "iopub.status.busy": "2024-07-21T08:37:20.582882Z",
     "iopub.status.idle": "2024-07-21T08:37:28.518657Z",
     "shell.execute_reply": "2024-07-21T08:37:28.517684Z"
    },
    "papermill": {
     "duration": 7.983689,
     "end_time": "2024-07-21T08:37:28.520927",
     "exception": false,
     "start_time": "2024-07-21T08:37:20.537238",
     "status": "completed"
    },
    "tags": []
   },
   "outputs": [],
   "source": [
    "test_data = {\n",
    "    'img': [load_image(i, test_folder) for i in range(5000)],\n",
    "    'label': [0] * 5000\n",
    "}"
   ]
  },
  {
   "cell_type": "code",
   "execution_count": null,
   "id": "68456ca1",
   "metadata": {
    "execution": {
     "iopub.execute_input": "2024-07-21T08:37:28.611772Z",
     "iopub.status.busy": "2024-07-21T08:37:28.611470Z",
     "iopub.status.idle": "2024-07-21T08:37:29.681837Z",
     "shell.execute_reply": "2024-07-21T08:37:29.681077Z"
    },
    "papermill": {
     "duration": 1.117884,
     "end_time": "2024-07-21T08:37:29.684223",
     "exception": false,
     "start_time": "2024-07-21T08:37:28.566339",
     "status": "completed"
    },
    "tags": []
   },
   "outputs": [],
   "source": [
    "# Dateset instance for test\n",
    "test_ds = Dataset.from_dict(test_data)"
   ]
  },
  {
   "cell_type": "code",
   "execution_count": null,
   "id": "0ae5a565",
   "metadata": {
    "execution": {
     "iopub.execute_input": "2024-07-21T08:37:29.775350Z",
     "iopub.status.busy": "2024-07-21T08:37:29.774583Z",
     "iopub.status.idle": "2024-07-21T08:37:29.779393Z",
     "shell.execute_reply": "2024-07-21T08:37:29.778561Z"
    },
    "papermill": {
     "duration": 0.052116,
     "end_time": "2024-07-21T08:37:29.781451",
     "exception": false,
     "start_time": "2024-07-21T08:37:29.729335",
     "status": "completed"
    },
    "tags": []
   },
   "outputs": [
    {
     "name": "stdout",
     "output_type": "stream",
     "text": [
      "Dataset({\n",
      "    features: ['img', 'label'],\n",
      "    num_rows: 13500\n",
      "})\n",
      "Dataset({\n",
      "    features: ['img', 'label'],\n",
      "    num_rows: 1500\n",
      "})\n",
      "Dataset({\n",
      "    features: ['img', 'label'],\n",
      "    num_rows: 5000\n",
      "})\n"
     ]
    }
   ],
   "source": [
    "# Check train, val, test set\n",
    "print(train_ds)\n",
    "print(val_ds)\n",
    "print(test_ds)"
   ]
  },
  {
   "cell_type": "markdown",
   "id": "99022d2d",
   "metadata": {
    "papermill": {
     "duration": 0.044296,
     "end_time": "2024-07-21T08:37:29.870098",
     "exception": false,
     "start_time": "2024-07-21T08:37:29.825802",
     "status": "completed"
    },
    "tags": []
   },
   "source": [
    "## Process Image"
   ]
  },
  {
   "cell_type": "code",
   "execution_count": null,
   "id": "139b6f5e",
   "metadata": {
    "execution": {
     "iopub.execute_input": "2024-07-21T08:37:29.960364Z",
     "iopub.status.busy": "2024-07-21T08:37:29.959654Z",
     "iopub.status.idle": "2024-07-21T08:37:30.500142Z",
     "shell.execute_reply": "2024-07-21T08:37:30.499275Z"
    },
    "papermill": {
     "duration": 0.593013,
     "end_time": "2024-07-21T08:37:30.507525",
     "exception": false,
     "start_time": "2024-07-21T08:37:29.914512",
     "status": "completed"
    },
    "tags": []
   },
   "outputs": [
    {
     "data": {
      "application/vnd.jupyter.widget-view+json": {
       "model_id": "3634684e7eb446538ce1f8a66ff56680",
       "version_major": 2,
       "version_minor": 0
      },
      "text/plain": [
       "preprocessor_config.json:   0%|          | 0.00/160 [00:00<?, ?B/s]"
      ]
     },
     "metadata": {},
     "output_type": "display_data"
    },
    {
     "name": "stderr",
     "output_type": "stream",
     "text": [
      "/opt/conda/lib/python3.10/site-packages/transformers/models/vit/feature_extraction_vit.py:28: FutureWarning: The class ViTFeatureExtractor is deprecated and will be removed in version 5 of Transformers. Please use ViTImageProcessor instead.\n",
      "  warnings.warn(\n"
     ]
    }
   ],
   "source": [
    "# Use ViTFeatureExtractor to extract features, rescale and normalize images \n",
    "feature_extractor = ViTFeatureExtractor.from_pretrained('google/vit-base-patch16-224-in21k')"
   ]
  },
  {
   "cell_type": "code",
   "execution_count": null,
   "id": "354752be",
   "metadata": {
    "execution": {
     "iopub.execute_input": "2024-07-21T08:37:30.598694Z",
     "iopub.status.busy": "2024-07-21T08:37:30.598402Z",
     "iopub.status.idle": "2024-07-21T08:37:30.868002Z",
     "shell.execute_reply": "2024-07-21T08:37:30.867070Z"
    },
    "papermill": {
     "duration": 0.317248,
     "end_time": "2024-07-21T08:37:30.870072",
     "exception": false,
     "start_time": "2024-07-21T08:37:30.552824",
     "status": "completed"
    },
    "tags": []
   },
   "outputs": [
    {
     "name": "stdout",
     "output_type": "stream",
     "text": [
      "(32, 32, 3)\n",
      "1\n"
     ]
    },
    {
     "data": {
      "text/plain": [
       "<matplotlib.image.AxesImage at 0x7e9a7bc1d7e0>"
      ]
     },
     "execution_count": 36,
     "metadata": {},
     "output_type": "execute_result"
    },
    {
     "data": {
      "image/png": "[encoded data removed]",
      "text/plain": [
       "<Figure size 640x480 with 1 Axes>"
      ]
     },
     "metadata": {},
     "output_type": "display_data"
    }
   ],
   "source": [
    "chk = train_ds[67]\n",
    "a = np.array(chk['img'])\n",
    "print(a.shape)\n",
    "cats = ['0', '1', '2', '3', '4', '5', '6', '7', '8', '9']\n",
    "\n",
    "\n",
    "print(cats[chk['label']])\n",
    "pyplot.imshow(a, cmap=pyplot.get_cmap('gray'))"
   ]
  },
  {
   "cell_type": "code",
   "execution_count": null,
   "id": "b612fa7e",
   "metadata": {
    "execution": {
     "iopub.execute_input": "2024-07-21T08:37:30.964528Z",
     "iopub.status.busy": "2024-07-21T08:37:30.964156Z",
     "iopub.status.idle": "2024-07-21T08:37:30.970000Z",
     "shell.execute_reply": "2024-07-21T08:37:30.969131Z"
    },
    "papermill": {
     "duration": 0.055238,
     "end_time": "2024-07-21T08:37:30.971847",
     "exception": false,
     "start_time": "2024-07-21T08:37:30.916609",
     "status": "completed"
    },
    "tags": []
   },
   "outputs": [],
   "source": [
    "# Preprocess images function, get ready for training\n",
    "def preprocess_images(examples):\n",
    "    # get batch of images\n",
    "    images = examples['img']\n",
    "    # convert to list of NumPy arrays of shape (C, H, W)\n",
    "    images = [np.array(image, dtype=np.uint8) for image in images]\n",
    "    images = [np.moveaxis(image, source=-1, destination=0) for image in images]\n",
    "    # preprocess and add pixel_values\n",
    "    inputs = feature_extractor(images=images)\n",
    "    examples['pixel_values'] = inputs['pixel_values']\n",
    "    return examples"
   ]
  },
  {
   "cell_type": "code",
   "execution_count": null,
   "id": "1efb1065",
   "metadata": {
    "execution": {
     "iopub.execute_input": "2024-07-21T08:37:31.064363Z",
     "iopub.status.busy": "2024-07-21T08:37:31.064038Z",
     "iopub.status.idle": "2024-07-21T08:41:25.494510Z",
     "shell.execute_reply": "2024-07-21T08:41:25.493587Z"
    },
    "papermill": {
     "duration": 234.479019,
     "end_time": "2024-07-21T08:41:25.496609",
     "exception": false,
     "start_time": "2024-07-21T08:37:31.017590",
     "status": "completed"
    },
    "tags": []
   },
   "outputs": [
    {
     "data": {
      "application/vnd.jupyter.widget-view+json": {
       "model_id": "887248d7a41849bda89d076724d11827",
       "version_major": 2,
       "version_minor": 0
      },
      "text/plain": [
       "Map:   0%|          | 0/13500 [00:00<?, ? examples/s]"
      ]
     },
     "metadata": {},
     "output_type": "display_data"
    },
    {
     "data": {
      "application/vnd.jupyter.widget-view+json": {
       "model_id": "1cb0e777d5e448f8ab052536cd08ce61",
       "version_major": 2,
       "version_minor": 0
      },
      "text/plain": [
       "Map:   0%|          | 0/1500 [00:00<?, ? examples/s]"
      ]
     },
     "metadata": {},
     "output_type": "display_data"
    },
    {
     "data": {
      "application/vnd.jupyter.widget-view+json": {
       "model_id": "498d2ff7ae7e4dd8904a4641c4559403",
       "version_major": 2,
       "version_minor": 0
      },
      "text/plain": [
       "Map:   0%|          | 0/5000 [00:00<?, ? examples/s]"
      ]
     },
     "metadata": {},
     "output_type": "display_data"
    }
   ],
   "source": [
    "# Use HuggingFace Datasets map function to apply preprocess images function on dataset\n",
    "\n",
    "# Define features\n",
    "features = Features({\n",
    "    'img': Array3D(dtype=\"uint8\", shape=(32, 32, 3)),\n",
    "    'label': ClassLabel(names=['0', '1', '2', '3', '4', '5', '6', '7', '8', '9']),\n",
    "    'pixel_values': Array3D(dtype=\"float32\", shape=(3, 224, 224)),\n",
    "})\n",
    "\n",
    "# Preprocess datasets\n",
    "preprocessed_train_ds = train_ds.map(preprocess_images, batched=True, features=features)\n",
    "preprocessed_val_ds = val_ds.map(preprocess_images, batched=True, features=features)\n",
    "preprocessed_test_ds = test_ds.map(preprocess_images, batched=True, features=features)"
   ]
  },
  {
   "cell_type": "code",
   "execution_count": null,
   "id": "1beff6b2",
   "metadata": {
    "execution": {
     "iopub.execute_input": "2024-07-21T08:41:25.590142Z",
     "iopub.status.busy": "2024-07-21T08:41:25.589813Z",
     "iopub.status.idle": "2024-07-21T08:41:25.596947Z",
     "shell.execute_reply": "2024-07-21T08:41:25.596068Z"
    },
    "papermill": {
     "duration": 0.055636,
     "end_time": "2024-07-21T08:41:25.598906",
     "exception": false,
     "start_time": "2024-07-21T08:41:25.543270",
     "status": "completed"
    },
    "tags": []
   },
   "outputs": [],
   "source": [
    "# Set format to PyTorch\n",
    "preprocessed_train_ds.set_format('torch', columns=['pixel_values', 'label'])\n",
    "preprocessed_val_ds.set_format('torch', columns=['pixel_values', 'label'])\n",
    "preprocessed_test_ds.set_format('torch', columns=['pixel_values', 'label'])"
   ]
  },
  {
   "cell_type": "markdown",
   "id": "ceda7f81",
   "metadata": {
    "papermill": {
     "duration": 0.045149,
     "end_time": "2024-07-21T08:41:25.689888",
     "exception": false,
     "start_time": "2024-07-21T08:41:25.644739",
     "status": "completed"
    },
    "tags": []
   },
   "source": [
    "## Create ViT Model"
   ]
  },
  {
   "cell_type": "code",
   "execution_count": null,
   "id": "1b7eac83",
   "metadata": {
    "execution": {
     "iopub.execute_input": "2024-07-21T08:41:25.782851Z",
     "iopub.status.busy": "2024-07-21T08:41:25.782330Z",
     "iopub.status.idle": "2024-07-21T08:41:26.388167Z",
     "shell.execute_reply": "2024-07-21T08:41:26.387055Z"
    },
    "papermill": {
     "duration": 0.655006,
     "end_time": "2024-07-21T08:41:26.390618",
     "exception": false,
     "start_time": "2024-07-21T08:41:25.735612",
     "status": "completed"
    },
    "tags": []
   },
   "outputs": [
    {
     "name": "stderr",
     "output_type": "stream",
     "text": [
      "/opt/conda/lib/python3.10/multiprocessing/popen_fork.py:66: RuntimeWarning: os.fork() was called. os.fork() is incompatible with multithreaded code, and JAX is multithreaded, so this will likely lead to a deadlock.\n",
      "  self.pid = os.fork()\n",
      "/opt/conda/lib/python3.10/multiprocessing/popen_fork.py:66: RuntimeWarning: os.fork() was called. os.fork() is incompatible with multithreaded code, and JAX is multithreaded, so this will likely lead to a deadlock.\n",
      "  self.pid = os.fork()\n"
     ]
    }
   ],
   "source": [
    "# create dataloaders\n",
    "train_batch_size = 10\n",
    "eval_batch_size = 10\n",
    "train_dataloader = torch.utils.data.DataLoader(preprocessed_train_ds, batch_size=train_batch_size, shuffle=True, num_workers=2)\n",
    "val_dataloader = torch.utils.data.DataLoader(preprocessed_val_ds, batch_size=eval_batch_size, num_workers=2)\n",
    "test_dataloader = torch.utils.data.DataLoader(preprocessed_test_ds, batch_size=eval_batch_size, num_workers=2)\n",
    "batch = next(iter(train_dataloader))"
   ]
  },
  {
   "cell_type": "code",
   "execution_count": null,
   "id": "f0f31d2e",
   "metadata": {
    "execution": {
     "iopub.execute_input": "2024-07-21T08:41:26.485521Z",
     "iopub.status.busy": "2024-07-21T08:41:26.485179Z",
     "iopub.status.idle": "2024-07-21T08:41:33.919691Z",
     "shell.execute_reply": "2024-07-21T08:41:33.918724Z"
    },
    "papermill": {
     "duration": 7.484287,
     "end_time": "2024-07-21T08:41:33.922019",
     "exception": false,
     "start_time": "2024-07-21T08:41:26.437732",
     "status": "completed"
    },
    "tags": []
   },
   "outputs": [
    {
     "data": {
      "application/vnd.jupyter.widget-view+json": {
       "model_id": "bcb5a14945ff4004be5e98fa29698218",
       "version_major": 2,
       "version_minor": 0
      },
      "text/plain": [
       "config.json:   0%|          | 0.00/502 [00:00<?, ?B/s]"
      ]
     },
     "metadata": {},
     "output_type": "display_data"
    },
    {
     "data": {
      "application/vnd.jupyter.widget-view+json": {
       "model_id": "6a0ee5339de8489398db1319f22a9711",
       "version_major": 2,
       "version_minor": 0
      },
      "text/plain": [
       "model.safetensors:   0%|          | 0.00/346M [00:00<?, ?B/s]"
      ]
     },
     "metadata": {},
     "output_type": "display_data"
    }
   ],
   "source": [
    "vit_model = ViTModel.from_pretrained('google/vit-base-patch16-224-in21k')\n",
    "for param in vit_model.parameters():\n",
    "      param.requires_grad = False"
   ]
  },
  {
   "cell_type": "code",
   "execution_count": null,
   "id": "d8781072",
   "metadata": {
    "execution": {
     "iopub.execute_input": "2024-07-21T08:41:34.016708Z",
     "iopub.status.busy": "2024-07-21T08:41:34.016392Z",
     "iopub.status.idle": "2024-07-21T08:41:34.023085Z",
     "shell.execute_reply": "2024-07-21T08:41:34.022222Z"
    },
    "papermill": {
     "duration": 0.056202,
     "end_time": "2024-07-21T08:41:34.025126",
     "exception": false,
     "start_time": "2024-07-21T08:41:33.968924",
     "status": "completed"
    },
    "tags": []
   },
   "outputs": [],
   "source": [
    "class ViTForImageClassification(nn.Module):\n",
    "    def __init__(self, num_labels=10):\n",
    "        super(ViTForImageClassification, self).__init__()\n",
    "        self.vit = vit_model\n",
    "        self.dropout = nn.Dropout(0.1)\n",
    "        self.classifier = nn.Linear(self.vit.config.hidden_size, num_labels)\n",
    "        self.num_labels = num_labels\n",
    "\n",
    "    def forward(self, pixel_values):\n",
    "        outputs = self.vit(pixel_values=pixel_values)\n",
    "        output = self.dropout(outputs.last_hidden_state[:,0])\n",
    "        logits = self.classifier(output)\n",
    "        return logits"
   ]
  },
  {
   "cell_type": "code",
   "execution_count": null,
   "id": "e12c28e2",
   "metadata": {
    "execution": {
     "iopub.execute_input": "2024-07-21T08:41:34.119498Z",
     "iopub.status.busy": "2024-07-21T08:41:34.118781Z",
     "iopub.status.idle": "2024-07-21T08:41:34.276880Z",
     "shell.execute_reply": "2024-07-21T08:41:34.275719Z"
    },
    "papermill": {
     "duration": 0.207827,
     "end_time": "2024-07-21T08:41:34.279218",
     "exception": false,
     "start_time": "2024-07-21T08:41:34.071391",
     "status": "completed"
    },
    "tags": []
   },
   "outputs": [],
   "source": [
    "model = ViTForImageClassification()\n",
    "model = model.to(device)"
   ]
  },
  {
   "cell_type": "code",
   "execution_count": null,
   "id": "3579129e",
   "metadata": {
    "execution": {
     "iopub.execute_input": "2024-07-21T08:41:34.390303Z",
     "iopub.status.busy": "2024-07-21T08:41:34.389958Z",
     "iopub.status.idle": "2024-07-21T08:41:34.418562Z",
     "shell.execute_reply": "2024-07-21T08:41:34.417416Z"
    },
    "papermill": {
     "duration": 0.087305,
     "end_time": "2024-07-21T08:41:34.420766",
     "exception": false,
     "start_time": "2024-07-21T08:41:34.333461",
     "status": "completed"
    },
    "tags": []
   },
   "outputs": [],
   "source": [
    "# Compute the class weights\n",
    "class_wts = compute_class_weight(class_weight=\"balanced\", classes=np.unique(preprocessed_train_ds['label']), y=preprocessed_train_ds['label'].tolist())\n",
    "\n",
    "# Convert class weights to tensor\n",
    "weights= torch.tensor(class_wts,dtype=torch.float)\n",
    "weights = weights.to(device)\n",
    "# Loss function\n",
    "cross_entropy = nn.CrossEntropyLoss(weight=weights)"
   ]
  },
  {
   "cell_type": "code",
   "execution_count": null,
   "id": "5967cd9e",
   "metadata": {
    "execution": {
     "iopub.execute_input": "2024-07-21T08:41:34.515849Z",
     "iopub.status.busy": "2024-07-21T08:41:34.515572Z",
     "iopub.status.idle": "2024-07-21T08:41:34.525679Z",
     "shell.execute_reply": "2024-07-21T08:41:34.524752Z"
    },
    "papermill": {
     "duration": 0.058971,
     "end_time": "2024-07-21T08:41:34.527556",
     "exception": false,
     "start_time": "2024-07-21T08:41:34.468585",
     "status": "completed"
    },
    "tags": []
   },
   "outputs": [
    {
     "name": "stderr",
     "output_type": "stream",
     "text": [
      "/opt/conda/lib/python3.10/site-packages/transformers/optimization.py:591: FutureWarning: This implementation of AdamW is deprecated and will be removed in a future version. Use the PyTorch implementation torch.optim.AdamW instead, or set `no_deprecation_warning=True` to disable this warning\n",
      "  warnings.warn(\n"
     ]
    }
   ],
   "source": [
    "# Optimizer\n",
    "optimizer= AdamW(model.parameters(), lr = 1e-3)"
   ]
  },
  {
   "cell_type": "markdown",
   "id": "96b32b05",
   "metadata": {
    "papermill": {
     "duration": 0.045807,
     "end_time": "2024-07-21T08:41:34.619626",
     "exception": false,
     "start_time": "2024-07-21T08:41:34.573819",
     "status": "completed"
    },
    "tags": []
   },
   "source": [
    "## Train ViT Model"
   ]
  },
  {
   "cell_type": "code",
   "execution_count": null,
   "id": "845c24ed",
   "metadata": {
    "execution": {
     "iopub.execute_input": "2024-07-21T08:41:34.714260Z",
     "iopub.status.busy": "2024-07-21T08:41:34.713534Z",
     "iopub.status.idle": "2024-07-21T08:41:34.722540Z",
     "shell.execute_reply": "2024-07-21T08:41:34.721871Z"
    },
    "papermill": {
     "duration": 0.058102,
     "end_time": "2024-07-21T08:41:34.724398",
     "exception": false,
     "start_time": "2024-07-21T08:41:34.666296",
     "status": "completed"
    },
    "tags": []
   },
   "outputs": [],
   "source": [
    "# number of training epochs\n",
    "epochs = 50\n",
    "\n",
    "# function to train the model\n",
    "def train():\n",
    "  \n",
    "    model.train()\n",
    "    total_loss = 0\n",
    "\n",
    "    # empty list to save model predictions\n",
    "    total_preds=[]\n",
    "\n",
    "    # iterate over batches\n",
    "    for step,batch in enumerate(train_dataloader):\n",
    "\n",
    "        # progress update after every 50 batches.\n",
    "        if step % 50 == 0 and not step == 0:\n",
    "            print('  Batch {:>5,}  of  {:>5,}.'.format(step,    len(train_dataloader)))\n",
    "        \n",
    "        # push the batch to gpu\n",
    "        lbl, pix = batch.items()\n",
    "        lbl, pix = lbl[1].to(device), pix[1].to(device)\n",
    "        \n",
    "        # get model predictions for the current batch\n",
    "        preds = model(pix)\n",
    "       \n",
    "        # compute the loss between actual and predicted values\n",
    "        loss = cross_entropy(preds, lbl)\n",
    "        \n",
    "        # add on to the total loss\n",
    "        total_loss = total_loss + loss.item()\n",
    "        \n",
    "        # backward pass to calculate the gradients\n",
    "        loss.backward()\n",
    "        \n",
    "        # clip the the gradients to 1.0. It helps in preventing the    exploding gradient problem\n",
    "        torch.nn.utils.clip_grad_norm_(model.parameters(), 1.0)\n",
    "        \n",
    "        # update parameters\n",
    "        optimizer.step()\n",
    "        \n",
    "        # clear calculated gradients\n",
    "        optimizer.zero_grad()  \n",
    "        preds=preds.detach().cpu().numpy()\n",
    "        \n",
    "        # append the model predictions\n",
    "        total_preds.append(preds)\n",
    "    # compute the training loss of the epoch\n",
    "    avg_loss = total_loss / len(train_dataloader)\n",
    "  \n",
    "    total_preds  = np.concatenate(total_preds, axis=0)\n",
    "    \n",
    "    #returns the loss and predictions\n",
    "    return avg_loss, total_preds"
   ]
  },
  {
   "cell_type": "code",
   "execution_count": null,
   "id": "b39ba527",
   "metadata": {
    "execution": {
     "iopub.execute_input": "2024-07-21T08:41:34.818178Z",
     "iopub.status.busy": "2024-07-21T08:41:34.817915Z",
     "iopub.status.idle": "2024-07-21T08:41:34.823451Z",
     "shell.execute_reply": "2024-07-21T08:41:34.822613Z"
    },
    "papermill": {
     "duration": 0.054951,
     "end_time": "2024-07-21T08:41:34.825308",
     "exception": false,
     "start_time": "2024-07-21T08:41:34.770357",
     "status": "completed"
    },
    "tags": []
   },
   "outputs": [],
   "source": [
    "def eval():\n",
    "    total_loss = 0\n",
    "    model.eval() # prep model for evaluation\n",
    "    for step,batch in enumerate(val_dataloader):\n",
    "        lbl, pix = batch.items()\n",
    "        lbl, pix = lbl[1].to(device), pix[1].to(device)\n",
    "        \n",
    "        # forward pass: compute predicted outputs by passing inputs to the model\n",
    "        preds = model(pix)\n",
    "        # calculate the loss\n",
    "        loss = cross_entropy(preds, lbl)\n",
    "        total_loss += loss.item()\n",
    "    \n",
    "    return total_loss / len(val_dataloader)"
   ]
  },
  {
   "cell_type": "code",
   "execution_count": null,
   "id": "e42cceed",
   "metadata": {
    "execution": {
     "iopub.execute_input": "2024-07-21T08:41:34.918503Z",
     "iopub.status.busy": "2024-07-21T08:41:34.918243Z",
     "iopub.status.idle": "2024-07-21T09:09:52.350806Z",
     "shell.execute_reply": "2024-07-21T09:09:52.349728Z"
    },
    "papermill": {
     "duration": 1697.549247,
     "end_time": "2024-07-21T09:09:52.420910",
     "exception": false,
     "start_time": "2024-07-21T08:41:34.871663",
     "status": "completed"
    },
    "tags": []
   },
   "outputs": [
    {
     "name": "stdout",
     "output_type": "stream",
     "text": [
      "\n",
      " Epoch 1 / 50\n"
     ]
    },
    {
     "name": "stderr",
     "output_type": "stream",
     "text": [
      "/opt/conda/lib/python3.10/multiprocessing/popen_fork.py:66: RuntimeWarning: os.fork() was called. os.fork() is incompatible with multithreaded code, and JAX is multithreaded, so this will likely lead to a deadlock.\n",
      "  self.pid = os.fork()\n"
     ]
    },
    {
     "name": "stdout",
     "output_type": "stream",
     "text": [
      "  Batch    50  of  1,350.\n",
      "  Batch   100  of  1,350.\n",
      "  Batch   150  of  1,350.\n",
      "  Batch   200  of  1,350.\n",
      "  Batch   250  of  1,350.\n",
      "  Batch   300  of  1,350.\n",
      "  Batch   350  of  1,350.\n",
      "  Batch   400  of  1,350.\n",
      "  Batch   450  of  1,350.\n",
      "  Batch   500  of  1,350.\n",
      "  Batch   550  of  1,350.\n",
      "  Batch   600  of  1,350.\n",
      "  Batch   650  of  1,350.\n",
      "  Batch   700  of  1,350.\n",
      "  Batch   750  of  1,350.\n",
      "  Batch   800  of  1,350.\n",
      "  Batch   850  of  1,350.\n",
      "  Batch   900  of  1,350.\n",
      "  Batch   950  of  1,350.\n",
      "  Batch 1,000  of  1,350.\n",
      "  Batch 1,050  of  1,350.\n",
      "  Batch 1,100  of  1,350.\n",
      "  Batch 1,150  of  1,350.\n",
      "  Batch 1,200  of  1,350.\n",
      "  Batch 1,250  of  1,350.\n",
      "  Batch 1,300  of  1,350.\n"
     ]
    },
    {
     "name": "stderr",
     "output_type": "stream",
     "text": [
      "/opt/conda/lib/python3.10/multiprocessing/popen_fork.py:66: RuntimeWarning: os.fork() was called. os.fork() is incompatible with multithreaded code, and JAX is multithreaded, so this will likely lead to a deadlock.\n",
      "  self.pid = os.fork()\n"
     ]
    },
    {
     "name": "stdout",
     "output_type": "stream",
     "text": [
      "\n",
      " Training Loss: 0.468\n",
      "\n",
      " Validation Loss: 0.283\n",
      "\n",
      " Epoch 2 / 50\n",
      "  Batch    50  of  1,350.\n",
      "  Batch   100  of  1,350.\n",
      "  Batch   150  of  1,350.\n",
      "  Batch   200  of  1,350.\n",
      "  Batch   250  of  1,350.\n",
      "  Batch   300  of  1,350.\n",
      "  Batch   350  of  1,350.\n",
      "  Batch   400  of  1,350.\n",
      "  Batch   450  of  1,350.\n",
      "  Batch   500  of  1,350.\n",
      "  Batch   550  of  1,350.\n",
      "  Batch   600  of  1,350.\n",
      "  Batch   650  of  1,350.\n",
      "  Batch   700  of  1,350.\n",
      "  Batch   750  of  1,350.\n",
      "  Batch   800  of  1,350.\n",
      "  Batch   850  of  1,350.\n",
      "  Batch   900  of  1,350.\n",
      "  Batch   950  of  1,350.\n",
      "  Batch 1,000  of  1,350.\n",
      "  Batch 1,050  of  1,350.\n",
      "  Batch 1,100  of  1,350.\n",
      "  Batch 1,150  of  1,350.\n",
      "  Batch 1,200  of  1,350.\n",
      "  Batch 1,250  of  1,350.\n",
      "  Batch 1,300  of  1,350.\n",
      "\n",
      " Training Loss: 0.251\n",
      "\n",
      " Validation Loss: 0.255\n",
      "\n",
      " Epoch 3 / 50\n",
      "  Batch    50  of  1,350.\n",
      "  Batch   100  of  1,350.\n",
      "  Batch   150  of  1,350.\n",
      "  Batch   200  of  1,350.\n",
      "  Batch   250  of  1,350.\n",
      "  Batch   300  of  1,350.\n",
      "  Batch   350  of  1,350.\n",
      "  Batch   400  of  1,350.\n",
      "  Batch   450  of  1,350.\n",
      "  Batch   500  of  1,350.\n",
      "  Batch   550  of  1,350.\n",
      "  Batch   600  of  1,350.\n",
      "  Batch   650  of  1,350.\n",
      "  Batch   700  of  1,350.\n",
      "  Batch   750  of  1,350.\n",
      "  Batch   800  of  1,350.\n",
      "  Batch   850  of  1,350.\n",
      "  Batch   900  of  1,350.\n",
      "  Batch   950  of  1,350.\n",
      "  Batch 1,000  of  1,350.\n",
      "  Batch 1,050  of  1,350.\n",
      "  Batch 1,100  of  1,350.\n",
      "  Batch 1,150  of  1,350.\n",
      "  Batch 1,200  of  1,350.\n",
      "  Batch 1,250  of  1,350.\n",
      "  Batch 1,300  of  1,350.\n",
      "\n",
      " Training Loss: 0.216\n",
      "\n",
      " Validation Loss: 0.244\n",
      "\n",
      " Epoch 4 / 50\n",
      "  Batch    50  of  1,350.\n",
      "  Batch   100  of  1,350.\n",
      "  Batch   150  of  1,350.\n",
      "  Batch   200  of  1,350.\n",
      "  Batch   250  of  1,350.\n",
      "  Batch   300  of  1,350.\n",
      "  Batch   350  of  1,350.\n",
      "  Batch   400  of  1,350.\n",
      "  Batch   450  of  1,350.\n",
      "  Batch   500  of  1,350.\n",
      "  Batch   550  of  1,350.\n",
      "  Batch   600  of  1,350.\n",
      "  Batch   650  of  1,350.\n",
      "  Batch   700  of  1,350.\n",
      "  Batch   750  of  1,350.\n",
      "  Batch   800  of  1,350.\n",
      "  Batch   850  of  1,350.\n",
      "  Batch   900  of  1,350.\n",
      "  Batch   950  of  1,350.\n",
      "  Batch 1,000  of  1,350.\n",
      "  Batch 1,050  of  1,350.\n",
      "  Batch 1,100  of  1,350.\n",
      "  Batch 1,150  of  1,350.\n",
      "  Batch 1,200  of  1,350.\n",
      "  Batch 1,250  of  1,350.\n",
      "  Batch 1,300  of  1,350.\n",
      "\n",
      " Training Loss: 0.194\n",
      "\n",
      " Validation Loss: 0.238\n",
      "\n",
      " Epoch 5 / 50\n",
      "  Batch    50  of  1,350.\n",
      "  Batch   100  of  1,350.\n",
      "  Batch   150  of  1,350.\n",
      "  Batch   200  of  1,350.\n",
      "  Batch   250  of  1,350.\n",
      "  Batch   300  of  1,350.\n",
      "  Batch   350  of  1,350.\n",
      "  Batch   400  of  1,350.\n",
      "  Batch   450  of  1,350.\n",
      "  Batch   500  of  1,350.\n",
      "  Batch   550  of  1,350.\n",
      "  Batch   600  of  1,350.\n",
      "  Batch   650  of  1,350.\n",
      "  Batch   700  of  1,350.\n",
      "  Batch   750  of  1,350.\n",
      "  Batch   800  of  1,350.\n",
      "  Batch   850  of  1,350.\n",
      "  Batch   900  of  1,350.\n",
      "  Batch   950  of  1,350.\n",
      "  Batch 1,000  of  1,350.\n",
      "  Batch 1,050  of  1,350.\n",
      "  Batch 1,100  of  1,350.\n",
      "  Batch 1,150  of  1,350.\n",
      "  Batch 1,200  of  1,350.\n",
      "  Batch 1,250  of  1,350.\n",
      "  Batch 1,300  of  1,350.\n",
      "\n",
      " Training Loss: 0.179\n",
      "\n",
      " Validation Loss: 0.236\n",
      "\n",
      " Epoch 6 / 50\n",
      "  Batch    50  of  1,350.\n",
      "  Batch   100  of  1,350.\n",
      "  Batch   150  of  1,350.\n",
      "  Batch   200  of  1,350.\n",
      "  Batch   250  of  1,350.\n",
      "  Batch   300  of  1,350.\n",
      "  Batch   350  of  1,350.\n",
      "  Batch   400  of  1,350.\n",
      "  Batch   450  of  1,350.\n",
      "  Batch   500  of  1,350.\n",
      "  Batch   550  of  1,350.\n",
      "  Batch   600  of  1,350.\n",
      "  Batch   650  of  1,350.\n",
      "  Batch   700  of  1,350.\n",
      "  Batch   750  of  1,350.\n",
      "  Batch   800  of  1,350.\n",
      "  Batch   850  of  1,350.\n",
      "  Batch   900  of  1,350.\n",
      "  Batch   950  of  1,350.\n",
      "  Batch 1,000  of  1,350.\n",
      "  Batch 1,050  of  1,350.\n",
      "  Batch 1,100  of  1,350.\n",
      "  Batch 1,150  of  1,350.\n",
      "  Batch 1,200  of  1,350.\n",
      "  Batch 1,250  of  1,350.\n",
      "  Batch 1,300  of  1,350.\n",
      "\n",
      " Training Loss: 0.168\n",
      "\n",
      " Validation Loss: 0.237\n",
      "\n",
      " Epoch 7 / 50\n",
      "  Batch    50  of  1,350.\n",
      "  Batch   100  of  1,350.\n",
      "  Batch   150  of  1,350.\n",
      "  Batch   200  of  1,350.\n",
      "  Batch   250  of  1,350.\n",
      "  Batch   300  of  1,350.\n",
      "  Batch   350  of  1,350.\n",
      "  Batch   400  of  1,350.\n",
      "  Batch   450  of  1,350.\n",
      "  Batch   500  of  1,350.\n",
      "  Batch   550  of  1,350.\n",
      "  Batch   600  of  1,350.\n",
      "  Batch   650  of  1,350.\n",
      "  Batch   700  of  1,350.\n",
      "  Batch   750  of  1,350.\n",
      "  Batch   800  of  1,350.\n",
      "  Batch   850  of  1,350.\n",
      "  Batch   900  of  1,350.\n",
      "  Batch   950  of  1,350.\n",
      "  Batch 1,000  of  1,350.\n",
      "  Batch 1,050  of  1,350.\n",
      "  Batch 1,100  of  1,350.\n",
      "  Batch 1,150  of  1,350.\n",
      "  Batch 1,200  of  1,350.\n",
      "  Batch 1,250  of  1,350.\n",
      "  Batch 1,300  of  1,350.\n",
      "\n",
      " Training Loss: 0.158\n",
      "\n",
      " Validation Loss: 0.239\n",
      "\n",
      " Epoch 8 / 50\n",
      "  Batch    50  of  1,350.\n",
      "  Batch   100  of  1,350.\n",
      "  Batch   150  of  1,350.\n",
      "  Batch   200  of  1,350.\n",
      "  Batch   250  of  1,350.\n",
      "  Batch   300  of  1,350.\n",
      "  Batch   350  of  1,350.\n",
      "  Batch   400  of  1,350.\n",
      "  Batch   450  of  1,350.\n",
      "  Batch   500  of  1,350.\n",
      "  Batch   550  of  1,350.\n",
      "  Batch   600  of  1,350.\n",
      "  Batch   650  of  1,350.\n",
      "  Batch   700  of  1,350.\n",
      "  Batch   750  of  1,350.\n",
      "  Batch   800  of  1,350.\n",
      "  Batch   850  of  1,350.\n",
      "  Batch   900  of  1,350.\n",
      "  Batch   950  of  1,350.\n",
      "  Batch 1,000  of  1,350.\n",
      "  Batch 1,050  of  1,350.\n",
      "  Batch 1,100  of  1,350.\n",
      "  Batch 1,150  of  1,350.\n",
      "  Batch 1,200  of  1,350.\n",
      "  Batch 1,250  of  1,350.\n",
      "  Batch 1,300  of  1,350.\n",
      "\n",
      " Training Loss: 0.147\n",
      "\n",
      " Validation Loss: 0.242\n",
      "\n",
      " Epoch 9 / 50\n",
      "  Batch    50  of  1,350.\n",
      "  Batch   100  of  1,350.\n",
      "  Batch   150  of  1,350.\n",
      "  Batch   200  of  1,350.\n",
      "  Batch   250  of  1,350.\n",
      "  Batch   300  of  1,350.\n",
      "  Batch   350  of  1,350.\n",
      "  Batch   400  of  1,350.\n",
      "  Batch   450  of  1,350.\n",
      "  Batch   500  of  1,350.\n",
      "  Batch   550  of  1,350.\n",
      "  Batch   600  of  1,350.\n",
      "  Batch   650  of  1,350.\n",
      "  Batch   700  of  1,350.\n",
      "  Batch   750  of  1,350.\n",
      "  Batch   800  of  1,350.\n",
      "  Batch   850  of  1,350.\n",
      "  Batch   900  of  1,350.\n",
      "  Batch   950  of  1,350.\n",
      "  Batch 1,000  of  1,350.\n",
      "  Batch 1,050  of  1,350.\n",
      "  Batch 1,100  of  1,350.\n",
      "  Batch 1,150  of  1,350.\n",
      "  Batch 1,200  of  1,350.\n",
      "  Batch 1,250  of  1,350.\n",
      "  Batch 1,300  of  1,350.\n",
      "\n",
      " Training Loss: 0.141\n",
      "\n",
      " Validation Loss: 0.244\n",
      "\n",
      " Epoch 10 / 50\n",
      "  Batch    50  of  1,350.\n",
      "  Batch   100  of  1,350.\n",
      "  Batch   150  of  1,350.\n",
      "  Batch   200  of  1,350.\n",
      "  Batch   250  of  1,350.\n",
      "  Batch   300  of  1,350.\n",
      "  Batch   350  of  1,350.\n",
      "  Batch   400  of  1,350.\n",
      "  Batch   450  of  1,350.\n",
      "  Batch   500  of  1,350.\n",
      "  Batch   550  of  1,350.\n",
      "  Batch   600  of  1,350.\n",
      "  Batch   650  of  1,350.\n",
      "  Batch   700  of  1,350.\n",
      "  Batch   750  of  1,350.\n",
      "  Batch   800  of  1,350.\n",
      "  Batch   850  of  1,350.\n",
      "  Batch   900  of  1,350.\n",
      "  Batch   950  of  1,350.\n",
      "  Batch 1,000  of  1,350.\n",
      "  Batch 1,050  of  1,350.\n",
      "  Batch 1,100  of  1,350.\n",
      "  Batch 1,150  of  1,350.\n",
      "  Batch 1,200  of  1,350.\n",
      "  Batch 1,250  of  1,350.\n",
      "  Batch 1,300  of  1,350.\n",
      "Early stopping with train_loss:  0.13606044144751245 and val_loss for this epoch:  0.24170426107981863 ...\n"
     ]
    }
   ],
   "source": [
    "min_loss = inf\n",
    "es = 0\n",
    "for epoch in range(epochs):\n",
    "     \n",
    "    print('\\n Epoch {:} / {:}'.format(epoch + 1, epochs))\n",
    "    \n",
    "    # Train model\n",
    "    train_loss, _ = train()\n",
    "    val_loss = eval()\n",
    "    \n",
    "    # Early Stopping\n",
    "    if val_loss < min_loss:\n",
    "        min_loss = val_loss\n",
    "        es = 0\n",
    "    else:\n",
    "        es += 1\n",
    "        if es > 4:\n",
    "            print(\"Early stopping with train_loss: \", train_loss, \"and val_loss for this epoch: \", val_loss, \"...\")\n",
    "            break\n",
    "    \n",
    "    # it can make your experiment reproducible, similar to set  random seed to all options where there needs a random seed.\n",
    "    torch.backends.cudnn.deterministic = True\n",
    "    torch.backends.cudnn.benchmark = False\n",
    "    print(f'\\n Training Loss: {train_loss:.3f}')\n",
    "    print(f'\\n Validation Loss: {val_loss:.3f}')"
   ]
  },
  {
   "cell_type": "markdown",
   "id": "159e1284",
   "metadata": {
    "execution": {
     "iopub.execute_input": "2024-07-20T01:29:38.671054Z",
     "iopub.status.busy": "2024-07-20T01:29:38.669171Z",
     "iopub.status.idle": "2024-07-20T01:29:38.680067Z",
     "shell.execute_reply": "2024-07-20T01:29:38.678217Z",
     "shell.execute_reply.started": "2024-07-20T01:29:38.670980Z"
    },
    "papermill": {
     "duration": 0.06754,
     "end_time": "2024-07-21T09:09:52.555947",
     "exception": false,
     "start_time": "2024-07-21T09:09:52.488407",
     "status": "completed"
    },
    "tags": []
   },
   "source": [
    "## ViT Predict on Val Set"
   ]
  },
  {
   "cell_type": "code",
   "execution_count": null,
   "id": "5aca13ee",
   "metadata": {
    "execution": {
     "iopub.execute_input": "2024-07-21T09:09:52.691890Z",
     "iopub.status.busy": "2024-07-21T09:09:52.691550Z",
     "iopub.status.idle": "2024-07-21T09:09:52.699270Z",
     "shell.execute_reply": "2024-07-21T09:09:52.698512Z"
    },
    "papermill": {
     "duration": 0.07821,
     "end_time": "2024-07-21T09:09:52.701067",
     "exception": false,
     "start_time": "2024-07-21T09:09:52.622857",
     "status": "completed"
    },
    "tags": []
   },
   "outputs": [],
   "source": [
    "def dataset_eval(dataloader):\n",
    "    model.eval()\n",
    "    y_pred = []\n",
    "    y_true = []\n",
    "    with torch.no_grad():\n",
    "        for step, batch in tqdm(enumerate(dataloader), total = len(dataloader)):\n",
    "            lbl, pix = batch.items()\n",
    "            lbl, pix = lbl[1].to(device), pix[1].to(device)\n",
    "\n",
    "            outputs = model(pix)\n",
    "            outputs = torch.argmax(outputs, axis=1)\n",
    "            y_pred.extend(outputs.cpu().detach().numpy())\n",
    "            y_true.extend(lbl.cpu().detach().numpy())\n",
    "            \n",
    "    return y_pred, y_true"
   ]
  },
  {
   "cell_type": "code",
   "execution_count": null,
   "id": "5dfc5339",
   "metadata": {
    "execution": {
     "iopub.execute_input": "2024-07-21T09:09:52.836325Z",
     "iopub.status.busy": "2024-07-21T09:09:52.836047Z",
     "iopub.status.idle": "2024-07-21T09:10:10.142708Z",
     "shell.execute_reply": "2024-07-21T09:10:10.141314Z"
    },
    "papermill": {
     "duration": 17.376793,
     "end_time": "2024-07-21T09:10:10.145084",
     "exception": false,
     "start_time": "2024-07-21T09:09:52.768291",
     "status": "completed"
    },
    "tags": []
   },
   "outputs": [
    {
     "name": "stderr",
     "output_type": "stream",
     "text": [
      "100%|██████████| 150/150 [00:17<00:00,  8.81it/s]"
     ]
    },
    {
     "name": "stdout",
     "output_type": "stream",
     "text": [
      "Accuracy of the model 0.92\n"
     ]
    },
    {
     "name": "stderr",
     "output_type": "stream",
     "text": [
      "\n"
     ]
    }
   ],
   "source": [
    "y_pred, y_true = dataset_eval(val_dataloader)\n",
    "correct = np.array(y_pred) == np.array(y_true)\n",
    "vit_val_accuracy = correct.sum() / len(correct)\n",
    "print(\"Accuracy of the model\", vit_val_accuracy)"
   ]
  },
  {
   "cell_type": "code",
   "execution_count": null,
   "id": "c7411e93",
   "metadata": {
    "execution": {
     "iopub.execute_input": "2024-07-21T09:10:10.306894Z",
     "iopub.status.busy": "2024-07-21T09:10:10.306556Z",
     "iopub.status.idle": "2024-07-21T09:10:10.806514Z",
     "shell.execute_reply": "2024-07-21T09:10:10.805563Z"
    },
    "papermill": {
     "duration": 0.583571,
     "end_time": "2024-07-21T09:10:10.808727",
     "exception": false,
     "start_time": "2024-07-21T09:10:10.225156",
     "status": "completed"
    },
    "tags": []
   },
   "outputs": [
    {
     "data": {
      "image/png": "[encoded data removed]",
      "text/plain": [
       "<Figure size 640x480 with 2 Axes>"
      ]
     },
     "metadata": {},
     "output_type": "display_data"
    }
   ],
   "source": [
    "# Confusion matrix\n",
    "cm = confusion_matrix(y_true, y_pred)\n",
    "cm_display = ConfusionMatrixDisplay(confusion_matrix=cm, display_labels=range(10))\n",
    "cm_display.plot(cmap=plt.cm.Blues)\n",
    "plt.title('Confusion Matrix')\n",
    "plt.show()"
   ]
  },
  {
   "cell_type": "markdown",
   "id": "0d4f4501",
   "metadata": {
    "papermill": {
     "duration": 0.079595,
     "end_time": "2024-07-21T09:10:10.968304",
     "exception": false,
     "start_time": "2024-07-21T09:10:10.888709",
     "status": "completed"
    },
    "tags": []
   },
   "source": [
    "# **3. Compare and Choose Method**"
   ]
  },
  {
   "cell_type": "code",
   "execution_count": 52,
   "id": "72efd9f7",
   "metadata": {
    "execution": {
     "iopub.execute_input": "2024-07-21T09:10:11.129258Z",
     "iopub.status.busy": "2024-07-21T09:10:11.128655Z",
     "iopub.status.idle": "2024-07-21T09:10:11.133403Z",
     "shell.execute_reply": "2024-07-21T09:10:11.132598Z"
    },
    "papermill": {
     "duration": 0.088219,
     "end_time": "2024-07-21T09:10:11.135711",
     "exception": false,
     "start_time": "2024-07-21T09:10:11.047492",
     "status": "completed"
    },
    "tags": []
   },
   "outputs": [
    {
     "name": "stdout",
     "output_type": "stream",
     "text": [
      "CNN Accuracy on Val: 0.8658000230789185\n",
      "ViT Accuracy on Val: 0.92\n"
     ]
    }
   ],
   "source": [
    "print(f\"CNN Accuracy on Val: {val_accuracy}\")\n",
    "print(f\"ViT Accuracy on Val: {vit_val_accuracy}\")"
   ]
  },
  {
   "cell_type": "code",
   "execution_count": null,
   "id": "0fc86f2d",
   "metadata": {
    "papermill": {
     "duration": 0.118647,
     "end_time": "2024-07-21T09:11:11.389930",
     "exception": false,
     "start_time": "2024-07-21T09:11:11.271283",
     "status": "completed"
    },
    "tags": []
   },
   "outputs": [],
   "source": []
  }
 ],
 "metadata": {
  "kaggle": {
   "accelerator": "nvidiaTeslaT4",
   "dataSources": [
    {
     "databundleVersionId": 8644029,
     "sourceId": 77309,
     "sourceType": "competition"
    }
   ],
   "dockerImageVersionId": 30747,
   "isGpuEnabled": true,
   "isInternetEnabled": true,
   "language": "python",
   "sourceType": "notebook"
  },
  "kernelspec": {
   "display_name": "Python 3",
   "language": "python",
   "name": "python3"
  },
  "language_info": {
   "codemirror_mode": {
    "name": "ipython",
    "version": 3
   },
   "file_extension": ".py",
   "mimetype": "text/x-python",
   "name": "python",
   "nbconvert_exporter": "python",
   "pygments_lexer": "ipython3",
   "version": "3.10.13"
  },
  "papermill": {
   "default_parameters": {},
   "duration": 7218.166853,
   "end_time": "2024-07-21T09:11:15.097396",
   "environment_variables": {},
   "exception": null,
   "input_path": "__notebook__.ipynb",
   "output_path": "__notebook__.ipynb",
   "parameters": {},
   "start_time": "2024-07-21T07:10:56.930543",
   "version": "2.5.0"
  },
  "widgets": {
   "application/vnd.jupyter.widget-state+json": {
    "state": {
     "00a7ec321bb741d187b8440919316112": {
      "model_module": "@jupyter-widgets/controls",
      "model_module_version": "1.5.0",
      "model_name": "HTMLModel",
      "state": {
       "_dom_classes": [],
       "_model_module": "@jupyter-widgets/controls",
       "_model_module_version": "1.5.0",
       "_model_name": "HTMLModel",
       "_view_count": null,
       "_view_module": "@jupyter-widgets/controls",
       "_view_module_version": "1.5.0",
       "_view_name": "HTMLView",
       "description": "",
       "description_tooltip": null,
       "layout": "IPY_MODEL_db43a97712cd44988954c0950e4648c3",
       "placeholder": "​",
       "style": "IPY_MODEL_f69d3dbb2de74bfebe0ab624405f5377",
       "value": "Map: 100%"
      }
     },
     "0103449ee75942c4943f46cfbd759412": {
      "model_module": "@jupyter-widgets/base",
      "model_module_version": "1.2.0",
      "model_name": "LayoutModel",
      "state": {
       "_model_module": "@jupyter-widgets/base",
       "_model_module_version": "1.2.0",
       "_model_name": "LayoutModel",
       "_view_count": null,
       "_view_module": "@jupyter-widgets/base",
       "_view_module_version": "1.2.0",
       "_view_name": "LayoutView",
       "align_content": null,
       "align_items": null,
       "align_self": null,
       "border": null,
       "bottom": null,
       "display": null,
       "flex": null,
       "flex_flow": null,
       "grid_area": null,
       "grid_auto_columns": null,
       "grid_auto_flow": null,
       "grid_auto_rows": null,
       "grid_column": null,
       "grid_gap": null,
       "grid_row": null,
       "grid_template_areas": null,
       "grid_template_columns": null,
       "grid_template_rows": null,
       "height": null,
       "justify_content": null,
       "justify_items": null,
       "left": null,
       "margin": null,
       "max_height": null,
       "max_width": null,
       "min_height": null,
       "min_width": null,
       "object_fit": null,
       "object_position": null,
       "order": null,
       "overflow": null,
       "overflow_x": null,
       "overflow_y": null,
       "padding": null,
       "right": null,
       "top": null,
       "visibility": null,
       "width": null
      }
     },
     "04ec9f5bca3e470db981468dcf71b147": {
      "model_module": "@jupyter-widgets/base",
      "model_module_version": "1.2.0",
      "model_name": "LayoutModel",
      "state": {
       "_model_module": "@jupyter-widgets/base",
       "_model_module_version": "1.2.0",
       "_model_name": "LayoutModel",
       "_view_count": null,
       "_view_module": "@jupyter-widgets/base",
       "_view_module_version": "1.2.0",
       "_view_name": "LayoutView",
       "align_content": null,
       "align_items": null,
       "align_self": null,
       "border": null,
       "bottom": null,
       "display": null,
       "flex": null,
       "flex_flow": null,
       "grid_area": null,
       "grid_auto_columns": null,
       "grid_auto_flow": null,
       "grid_auto_rows": null,
       "grid_column": null,
       "grid_gap": null,
       "grid_row": null,
       "grid_template_areas": null,
       "grid_template_columns": null,
       "grid_template_rows": null,
       "height": null,
       "justify_content": null,
       "justify_items": null,
       "left": null,
       "margin": null,
       "max_height": null,
       "max_width": null,
       "min_height": null,
       "min_width": null,
       "object_fit": null,
       "object_position": null,
       "order": null,
       "overflow": null,
       "overflow_x": null,
       "overflow_y": null,
       "padding": null,
       "right": null,
       "top": null,
       "visibility": null,
       "width": null
      }
     },
     "0c138287a2124d27a037281e1b440016": {
      "model_module": "@jupyter-widgets/base",
      "model_module_version": "1.2.0",
      "model_name": "LayoutModel",
      "state": {
       "_model_module": "@jupyter-widgets/base",
       "_model_module_version": "1.2.0",
       "_model_name": "LayoutModel",
       "_view_count": null,
       "_view_module": "@jupyter-widgets/base",
       "_view_module_version": "1.2.0",
       "_view_name": "LayoutView",
       "align_content": null,
       "align_items": null,
       "align_self": null,
       "border": null,
       "bottom": null,
       "display": null,
       "flex": null,
       "flex_flow": null,
       "grid_area": null,
       "grid_auto_columns": null,
       "grid_auto_flow": null,
       "grid_auto_rows": null,
       "grid_column": null,
       "grid_gap": null,
       "grid_row": null,
       "grid_template_areas": null,
       "grid_template_columns": null,
       "grid_template_rows": null,
       "height": null,
       "justify_content": null,
       "justify_items": null,
       "left": null,
       "margin": null,
       "max_height": null,
       "max_width": null,
       "min_height": null,
       "min_width": null,
       "object_fit": null,
       "object_position": null,
       "order": null,
       "overflow": null,
       "overflow_x": null,
       "overflow_y": null,
       "padding": null,
       "right": null,
       "top": null,
       "visibility": null,
       "width": null
      }
     },
     "0d986e1af73043aabbe39da7c82564eb": {
      "model_module": "@jupyter-widgets/base",
      "model_module_version": "1.2.0",
      "model_name": "LayoutModel",
      "state": {
       "_model_module": "@jupyter-widgets/base",
       "_model_module_version": "1.2.0",
       "_model_name": "LayoutModel",
       "_view_count": null,
       "_view_module": "@jupyter-widgets/base",
       "_view_module_version": "1.2.0",
       "_view_name": "LayoutView",
       "align_content": null,
       "align_items": null,
       "align_self": null,
       "border": null,
       "bottom": null,
       "display": null,
       "flex": null,
       "flex_flow": null,
       "grid_area": null,
       "grid_auto_columns": null,
       "grid_auto_flow": null,
       "grid_auto_rows": null,
       "grid_column": null,
       "grid_gap": null,
       "grid_row": null,
       "grid_template_areas": null,
       "grid_template_columns": null,
       "grid_template_rows": null,
       "height": null,
       "justify_content": null,
       "justify_items": null,
       "left": null,
       "margin": null,
       "max_height": null,
       "max_width": null,
       "min_height": null,
       "min_width": null,
       "object_fit": null,
       "object_position": null,
       "order": null,
       "overflow": null,
       "overflow_x": null,
       "overflow_y": null,
       "padding": null,
       "right": null,
       "top": null,
       "visibility": null,
       "width": null
      }
     },
     "16c6f2a35f7049d4aac31441a0c46822": {
      "model_module": "@jupyter-widgets/base",
      "model_module_version": "1.2.0",
      "model_name": "LayoutModel",
      "state": {
       "_model_module": "@jupyter-widgets/base",
       "_model_module_version": "1.2.0",
       "_model_name": "LayoutModel",
       "_view_count": null,
       "_view_module": "@jupyter-widgets/base",
       "_view_module_version": "1.2.0",
       "_view_name": "LayoutView",
       "align_content": null,
       "align_items": null,
       "align_self": null,
       "border": null,
       "bottom": null,
       "display": null,
       "flex": null,
       "flex_flow": null,
       "grid_area": null,
       "grid_auto_columns": null,
       "grid_auto_flow": null,
       "grid_auto_rows": null,
       "grid_column": null,
       "grid_gap": null,
       "grid_row": null,
       "grid_template_areas": null,
       "grid_template_columns": null,
       "grid_template_rows": null,
       "height": null,
       "justify_content": null,
       "justify_items": null,
       "left": null,
       "margin": null,
       "max_height": null,
       "max_width": null,
       "min_height": null,
       "min_width": null,
       "object_fit": null,
       "object_position": null,
       "order": null,
       "overflow": null,
       "overflow_x": null,
       "overflow_y": null,
       "padding": null,
       "right": null,
       "top": null,
       "visibility": null,
       "width": null
      }
     },
     "16f981db93014e0986dac33fc715c49d": {
      "model_module": "@jupyter-widgets/base",
      "model_module_version": "1.2.0",
      "model_name": "LayoutModel",
      "state": {
       "_model_module": "@jupyter-widgets/base",
       "_model_module_version": "1.2.0",
       "_model_name": "LayoutModel",
       "_view_count": null,
       "_view_module": "@jupyter-widgets/base",
       "_view_module_version": "1.2.0",
       "_view_name": "LayoutView",
       "align_content": null,
       "align_items": null,
       "align_self": null,
       "border": null,
       "bottom": null,
       "display": null,
       "flex": null,
       "flex_flow": null,
       "grid_area": null,
       "grid_auto_columns": null,
       "grid_auto_flow": null,
       "grid_auto_rows": null,
       "grid_column": null,
       "grid_gap": null,
       "grid_row": null,
       "grid_template_areas": null,
       "grid_template_columns": null,
       "grid_template_rows": null,
       "height": null,
       "justify_content": null,
       "justify_items": null,
       "left": null,
       "margin": null,
       "max_height": null,
       "max_width": null,
       "min_height": null,
       "min_width": null,
       "object_fit": null,
       "object_position": null,
       "order": null,
       "overflow": null,
       "overflow_x": null,
       "overflow_y": null,
       "padding": null,
       "right": null,
       "top": null,
       "visibility": null,
       "width": null
      }
     },
     "1a3002dcda164d82875f9e1e2264d8aa": {
      "model_module": "@jupyter-widgets/controls",
      "model_module_version": "1.5.0",
      "model_name": "ProgressStyleModel",
      "state": {
       "_model_module": "@jupyter-widgets/controls",
       "_model_module_version": "1.5.0",
       "_model_name": "ProgressStyleModel",
       "_view_count": null,
       "_view_module": "@jupyter-widgets/base",
       "_view_module_version": "1.2.0",
       "_view_name": "StyleView",
       "bar_color": null,
       "description_width": ""
      }
     },
     "1cb0e777d5e448f8ab052536cd08ce61": {
      "model_module": "@jupyter-widgets/controls",
      "model_module_version": "1.5.0",
      "model_name": "HBoxModel",
      "state": {
       "_dom_classes": [],
       "_model_module": "@jupyter-widgets/controls",
       "_model_module_version": "1.5.0",
       "_model_name": "HBoxModel",
       "_view_count": null,
       "_view_module": "@jupyter-widgets/controls",
       "_view_module_version": "1.5.0",
       "_view_name": "HBoxView",
       "box_style": "",
       "children": [
        "IPY_MODEL_7609a4f008694492a2995277ccc21c28",
        "IPY_MODEL_f171dc5ae45741b3a94af2cf9659d3b9",
        "IPY_MODEL_268d1fe3e6d7427180a4a05fcfc13dd7"
       ],
       "layout": "IPY_MODEL_dcfa86afc5db40d59879565021813fe7"
      }
     },
     "22af6fde745342fc9b1f3e200574798e": {
      "model_module": "@jupyter-widgets/controls",
      "model_module_version": "1.5.0",
      "model_name": "ProgressStyleModel",
      "state": {
       "_model_module": "@jupyter-widgets/controls",
       "_model_module_version": "1.5.0",
       "_model_name": "ProgressStyleModel",
       "_view_count": null,
       "_view_module": "@jupyter-widgets/base",
       "_view_module_version": "1.2.0",
       "_view_name": "StyleView",
       "bar_color": null,
       "description_width": ""
      }
     },
     "268d1fe3e6d7427180a4a05fcfc13dd7": {
      "model_module": "@jupyter-widgets/controls",
      "model_module_version": "1.5.0",
      "model_name": "HTMLModel",
      "state": {
       "_dom_classes": [],
       "_model_module": "@jupyter-widgets/controls",
       "_model_module_version": "1.5.0",
       "_model_name": "HTMLModel",
       "_view_count": null,
       "_view_module": "@jupyter-widgets/controls",
       "_view_module_version": "1.5.0",
       "_view_name": "HTMLView",
       "description": "",
       "description_tooltip": null,
       "layout": "IPY_MODEL_77681f60abb740b4b7ae1ffdcb30222f",
       "placeholder": "​",
       "style": "IPY_MODEL_6c57c82ff0a848d095db4c94434d8086",
       "value": " 1500/1500 [00:17&lt;00:00, 88.03 examples/s]"
      }
     },
     "32f2d4edee284d55b58e754b6c193def": {
      "model_module": "@jupyter-widgets/controls",
      "model_module_version": "1.5.0",
      "model_name": "FloatProgressModel",
      "state": {
       "_dom_classes": [],
       "_model_module": "@jupyter-widgets/controls",
       "_model_module_version": "1.5.0",
       "_model_name": "FloatProgressModel",
       "_view_count": null,
       "_view_module": "@jupyter-widgets/controls",
       "_view_module_version": "1.5.0",
       "_view_name": "ProgressView",
       "bar_style": "success",
       "description": "",
       "description_tooltip": null,
       "layout": "IPY_MODEL_c1e102fbde784ba2ba65d10de2f19309",
       "max": 345579424,
       "min": 0,
       "orientation": "horizontal",
       "style": "IPY_MODEL_1a3002dcda164d82875f9e1e2264d8aa",
       "value": 345579424
      }
     },
     "333c90a90c34454382f284ef10a84669": {
      "model_module": "@jupyter-widgets/base",
      "model_module_version": "1.2.0",
      "model_name": "LayoutModel",
      "state": {
       "_model_module": "@jupyter-widgets/base",
       "_model_module_version": "1.2.0",
       "_model_name": "LayoutModel",
       "_view_count": null,
       "_view_module": "@jupyter-widgets/base",
       "_view_module_version": "1.2.0",
       "_view_name": "LayoutView",
       "align_content": null,
       "align_items": null,
       "align_self": null,
       "border": null,
       "bottom": null,
       "display": null,
       "flex": null,
       "flex_flow": null,
       "grid_area": null,
       "grid_auto_columns": null,
       "grid_auto_flow": null,
       "grid_auto_rows": null,
       "grid_column": null,
       "grid_gap": null,
       "grid_row": null,
       "grid_template_areas": null,
       "grid_template_columns": null,
       "grid_template_rows": null,
       "height": null,
       "justify_content": null,
       "justify_items": null,
       "left": null,
       "margin": null,
       "max_height": null,
       "max_width": null,
       "min_height": null,
       "min_width": null,
       "object_fit": null,
       "object_position": null,
       "order": null,
       "overflow": null,
       "overflow_x": null,
       "overflow_y": null,
       "padding": null,
       "right": null,
       "top": null,
       "visibility": null,
       "width": null
      }
     },
     "351ef1916d794e3d8bcecb12edcda42b": {
      "model_module": "@jupyter-widgets/base",
      "model_module_version": "1.2.0",
      "model_name": "LayoutModel",
      "state": {
       "_model_module": "@jupyter-widgets/base",
       "_model_module_version": "1.2.0",
       "_model_name": "LayoutModel",
       "_view_count": null,
       "_view_module": "@jupyter-widgets/base",
       "_view_module_version": "1.2.0",
       "_view_name": "LayoutView",
       "align_content": null,
       "align_items": null,
       "align_self": null,
       "border": null,
       "bottom": null,
       "display": null,
       "flex": null,
       "flex_flow": null,
       "grid_area": null,
       "grid_auto_columns": null,
       "grid_auto_flow": null,
       "grid_auto_rows": null,
       "grid_column": null,
       "grid_gap": null,
       "grid_row": null,
       "grid_template_areas": null,
       "grid_template_columns": null,
       "grid_template_rows": null,
       "height": null,
       "justify_content": null,
       "justify_items": null,
       "left": null,
       "margin": null,
       "max_height": null,
       "max_width": null,
       "min_height": null,
       "min_width": null,
       "object_fit": null,
       "object_position": null,
       "order": null,
       "overflow": null,
       "overflow_x": null,
       "overflow_y": null,
       "padding": null,
       "right": null,
       "top": null,
       "visibility": null,
       "width": null
      }
     },
     "3634684e7eb446538ce1f8a66ff56680": {
      "model_module": "@jupyter-widgets/controls",
      "model_module_version": "1.5.0",
      "model_name": "HBoxModel",
      "state": {
       "_dom_classes": [],
       "_model_module": "@jupyter-widgets/controls",
       "_model_module_version": "1.5.0",
       "_model_name": "HBoxModel",
       "_view_count": null,
       "_view_module": "@jupyter-widgets/controls",
       "_view_module_version": "1.5.0",
       "_view_name": "HBoxView",
       "box_style": "",
       "children": [
        "IPY_MODEL_ae360e4ac94d460ab4945231fb0290b8",
        "IPY_MODEL_6a8633d2d3ea45d98b079d785b186581",
        "IPY_MODEL_da478541a64544d7b25b5f53d9861822"
       ],
       "layout": "IPY_MODEL_971bc4704ad849cea7ed15fe28e3597c"
      }
     },
     "3da3945e1c8940de9279d00b564b81e5": {
      "model_module": "@jupyter-widgets/controls",
      "model_module_version": "1.5.0",
      "model_name": "DescriptionStyleModel",
      "state": {
       "_model_module": "@jupyter-widgets/controls",
       "_model_module_version": "1.5.0",
       "_model_name": "DescriptionStyleModel",
       "_view_count": null,
       "_view_module": "@jupyter-widgets/base",
       "_view_module_version": "1.2.0",
       "_view_name": "StyleView",
       "description_width": ""
      }
     },
     "41639b89de7449b1926a062f51bd5b74": {
      "model_module": "@jupyter-widgets/controls",
      "model_module_version": "1.5.0",
      "model_name": "HTMLModel",
      "state": {
       "_dom_classes": [],
       "_model_module": "@jupyter-widgets/controls",
       "_model_module_version": "1.5.0",
       "_model_name": "HTMLModel",
       "_view_count": null,
       "_view_module": "@jupyter-widgets/controls",
       "_view_module_version": "1.5.0",
       "_view_name": "HTMLView",
       "description": "",
       "description_tooltip": null,
       "layout": "IPY_MODEL_de78408ea9d544b5a73108c6504bd55c",
       "placeholder": "​",
       "style": "IPY_MODEL_a1d826ef638f43bea74a003b89e06d12",
       "value": " 5000/5000 [00:58&lt;00:00, 85.16 examples/s]"
      }
     },
     "460389ab7efe4c2b8f9dc07b6ad11c4e": {
      "model_module": "@jupyter-widgets/base",
      "model_module_version": "1.2.0",
      "model_name": "LayoutModel",
      "state": {
       "_model_module": "@jupyter-widgets/base",
       "_model_module_version": "1.2.0",
       "_model_name": "LayoutModel",
       "_view_count": null,
       "_view_module": "@jupyter-widgets/base",
       "_view_module_version": "1.2.0",
       "_view_name": "LayoutView",
       "align_content": null,
       "align_items": null,
       "align_self": null,
       "border": null,
       "bottom": null,
       "display": null,
       "flex": null,
       "flex_flow": null,
       "grid_area": null,
       "grid_auto_columns": null,
       "grid_auto_flow": null,
       "grid_auto_rows": null,
       "grid_column": null,
       "grid_gap": null,
       "grid_row": null,
       "grid_template_areas": null,
       "grid_template_columns": null,
       "grid_template_rows": null,
       "height": null,
       "justify_content": null,
       "justify_items": null,
       "left": null,
       "margin": null,
       "max_height": null,
       "max_width": null,
       "min_height": null,
       "min_width": null,
       "object_fit": null,
       "object_position": null,
       "order": null,
       "overflow": null,
       "overflow_x": null,
       "overflow_y": null,
       "padding": null,
       "right": null,
       "top": null,
       "visibility": null,
       "width": null
      }
     },
     "4613283db3434bfe8701c9c0ae9cfc83": {
      "model_module": "@jupyter-widgets/base",
      "model_module_version": "1.2.0",
      "model_name": "LayoutModel",
      "state": {
       "_model_module": "@jupyter-widgets/base",
       "_model_module_version": "1.2.0",
       "_model_name": "LayoutModel",
       "_view_count": null,
       "_view_module": "@jupyter-widgets/base",
       "_view_module_version": "1.2.0",
       "_view_name": "LayoutView",
       "align_content": null,
       "align_items": null,
       "align_self": null,
       "border": null,
       "bottom": null,
       "display": null,
       "flex": null,
       "flex_flow": null,
       "grid_area": null,
       "grid_auto_columns": null,
       "grid_auto_flow": null,
       "grid_auto_rows": null,
       "grid_column": null,
       "grid_gap": null,
       "grid_row": null,
       "grid_template_areas": null,
       "grid_template_columns": null,
       "grid_template_rows": null,
       "height": null,
       "justify_content": null,
       "justify_items": null,
       "left": null,
       "margin": null,
       "max_height": null,
       "max_width": null,
       "min_height": null,
       "min_width": null,
       "object_fit": null,
       "object_position": null,
       "order": null,
       "overflow": null,
       "overflow_x": null,
       "overflow_y": null,
       "padding": null,
       "right": null,
       "top": null,
       "visibility": null,
       "width": null
      }
     },
     "498d2ff7ae7e4dd8904a4641c4559403": {
      "model_module": "@jupyter-widgets/controls",
      "model_module_version": "1.5.0",
      "model_name": "HBoxModel",
      "state": {
       "_dom_classes": [],
       "_model_module": "@jupyter-widgets/controls",
       "_model_module_version": "1.5.0",
       "_model_name": "HBoxModel",
       "_view_count": null,
       "_view_module": "@jupyter-widgets/controls",
       "_view_module_version": "1.5.0",
       "_view_name": "HBoxView",
       "box_style": "",
       "children": [
        "IPY_MODEL_f2e623f330964498ac0fbe1ef712492b",
        "IPY_MODEL_e1326091f8f44ed5ae9adccf84503346",
        "IPY_MODEL_41639b89de7449b1926a062f51bd5b74"
       ],
       "layout": "IPY_MODEL_333c90a90c34454382f284ef10a84669"
      }
     },
     "4cdbd5623af04f77b192058613610e40": {
      "model_module": "@jupyter-widgets/controls",
      "model_module_version": "1.5.0",
      "model_name": "HTMLModel",
      "state": {
       "_dom_classes": [],
       "_model_module": "@jupyter-widgets/controls",
       "_model_module_version": "1.5.0",
       "_model_name": "HTMLModel",
       "_view_count": null,
       "_view_module": "@jupyter-widgets/controls",
       "_view_module_version": "1.5.0",
       "_view_name": "HTMLView",
       "description": "",
       "description_tooltip": null,
       "layout": "IPY_MODEL_0c138287a2124d27a037281e1b440016",
       "placeholder": "​",
       "style": "IPY_MODEL_6628aecb3b8b4aab9c615f56c447792d",
       "value": " 346M/346M [00:06&lt;00:00, 49.3MB/s]"
      }
     },
     "591a55985c63492c893517659b74f33d": {
      "model_module": "@jupyter-widgets/controls",
      "model_module_version": "1.5.0",
      "model_name": "DescriptionStyleModel",
      "state": {
       "_model_module": "@jupyter-widgets/controls",
       "_model_module_version": "1.5.0",
       "_model_name": "DescriptionStyleModel",
       "_view_count": null,
       "_view_module": "@jupyter-widgets/base",
       "_view_module_version": "1.2.0",
       "_view_name": "StyleView",
       "description_width": ""
      }
     },
     "5b0310de4db44a10ac758f283b9dbb97": {
      "model_module": "@jupyter-widgets/base",
      "model_module_version": "1.2.0",
      "model_name": "LayoutModel",
      "state": {
       "_model_module": "@jupyter-widgets/base",
       "_model_module_version": "1.2.0",
       "_model_name": "LayoutModel",
       "_view_count": null,
       "_view_module": "@jupyter-widgets/base",
       "_view_module_version": "1.2.0",
       "_view_name": "LayoutView",
       "align_content": null,
       "align_items": null,
       "align_self": null,
       "border": null,
       "bottom": null,
       "display": null,
       "flex": null,
       "flex_flow": null,
       "grid_area": null,
       "grid_auto_columns": null,
       "grid_auto_flow": null,
       "grid_auto_rows": null,
       "grid_column": null,
       "grid_gap": null,
       "grid_row": null,
       "grid_template_areas": null,
       "grid_template_columns": null,
       "grid_template_rows": null,
       "height": null,
       "justify_content": null,
       "justify_items": null,
       "left": null,
       "margin": null,
       "max_height": null,
       "max_width": null,
       "min_height": null,
       "min_width": null,
       "object_fit": null,
       "object_position": null,
       "order": null,
       "overflow": null,
       "overflow_x": null,
       "overflow_y": null,
       "padding": null,
       "right": null,
       "top": null,
       "visibility": null,
       "width": null
      }
     },
     "6628aecb3b8b4aab9c615f56c447792d": {
      "model_module": "@jupyter-widgets/controls",
      "model_module_version": "1.5.0",
      "model_name": "DescriptionStyleModel",
      "state": {
       "_model_module": "@jupyter-widgets/controls",
       "_model_module_version": "1.5.0",
       "_model_name": "DescriptionStyleModel",
       "_view_count": null,
       "_view_module": "@jupyter-widgets/base",
       "_view_module_version": "1.2.0",
       "_view_name": "StyleView",
       "description_width": ""
      }
     },
     "6a0ee5339de8489398db1319f22a9711": {
      "model_module": "@jupyter-widgets/controls",
      "model_module_version": "1.5.0",
      "model_name": "HBoxModel",
      "state": {
       "_dom_classes": [],
       "_model_module": "@jupyter-widgets/controls",
       "_model_module_version": "1.5.0",
       "_model_name": "HBoxModel",
       "_view_count": null,
       "_view_module": "@jupyter-widgets/controls",
       "_view_module_version": "1.5.0",
       "_view_name": "HBoxView",
       "box_style": "",
       "children": [
        "IPY_MODEL_7508cdd3b3564b20a63dbd5520c0735c",
        "IPY_MODEL_32f2d4edee284d55b58e754b6c193def",
        "IPY_MODEL_4cdbd5623af04f77b192058613610e40"
       ],
       "layout": "IPY_MODEL_7cda07eba09c472da94654426122213b"
      }
     },
     "6a2d2738dad8490a9cc0fbd71a4ab839": {
      "model_module": "@jupyter-widgets/controls",
      "model_module_version": "1.5.0",
      "model_name": "FloatProgressModel",
      "state": {
       "_dom_classes": [],
       "_model_module": "@jupyter-widgets/controls",
       "_model_module_version": "1.5.0",
       "_model_name": "FloatProgressModel",
       "_view_count": null,
       "_view_module": "@jupyter-widgets/controls",
       "_view_module_version": "1.5.0",
       "_view_name": "ProgressView",
       "bar_style": "success",
       "description": "",
       "description_tooltip": null,
       "layout": "IPY_MODEL_04ec9f5bca3e470db981468dcf71b147",
       "max": 13500,
       "min": 0,
       "orientation": "horizontal",
       "style": "IPY_MODEL_99e178dc006d4cc783f164fcda93c8cf",
       "value": 13500
      }
     },
     "6a8633d2d3ea45d98b079d785b186581": {
      "model_module": "@jupyter-widgets/controls",
      "model_module_version": "1.5.0",
      "model_name": "FloatProgressModel",
      "state": {
       "_dom_classes": [],
       "_model_module": "@jupyter-widgets/controls",
       "_model_module_version": "1.5.0",
       "_model_name": "FloatProgressModel",
       "_view_count": null,
       "_view_module": "@jupyter-widgets/controls",
       "_view_module_version": "1.5.0",
       "_view_name": "ProgressView",
       "bar_style": "success",
       "description": "",
       "description_tooltip": null,
       "layout": "IPY_MODEL_df2b74424edc4b0489a91dc05815dfdf",
       "max": 160,
       "min": 0,
       "orientation": "horizontal",
       "style": "IPY_MODEL_7be2794a744b4a6ba2e11c04b7cc6189",
       "value": 160
      }
     },
     "6c57c82ff0a848d095db4c94434d8086": {
      "model_module": "@jupyter-widgets/controls",
      "model_module_version": "1.5.0",
      "model_name": "DescriptionStyleModel",
      "state": {
       "_model_module": "@jupyter-widgets/controls",
       "_model_module_version": "1.5.0",
       "_model_name": "DescriptionStyleModel",
       "_view_count": null,
       "_view_module": "@jupyter-widgets/base",
       "_view_module_version": "1.2.0",
       "_view_name": "StyleView",
       "description_width": ""
      }
     },
     "6d01c19005d744e096c2ff497ef47845": {
      "model_module": "@jupyter-widgets/controls",
      "model_module_version": "1.5.0",
      "model_name": "FloatProgressModel",
      "state": {
       "_dom_classes": [],
       "_model_module": "@jupyter-widgets/controls",
       "_model_module_version": "1.5.0",
       "_model_name": "FloatProgressModel",
       "_view_count": null,
       "_view_module": "@jupyter-widgets/controls",
       "_view_module_version": "1.5.0",
       "_view_name": "ProgressView",
       "bar_style": "success",
       "description": "",
       "description_tooltip": null,
       "layout": "IPY_MODEL_d2df8104fd9343778283135fc5b3b33a",
       "max": 502,
       "min": 0,
       "orientation": "horizontal",
       "style": "IPY_MODEL_d3a96f41a1874ebe8572eb86bbfdc172",
       "value": 502
      }
     },
     "73856dcc0a22432ba6ebc45cdb555c60": {
      "model_module": "@jupyter-widgets/controls",
      "model_module_version": "1.5.0",
      "model_name": "DescriptionStyleModel",
      "state": {
       "_model_module": "@jupyter-widgets/controls",
       "_model_module_version": "1.5.0",
       "_model_name": "DescriptionStyleModel",
       "_view_count": null,
       "_view_module": "@jupyter-widgets/base",
       "_view_module_version": "1.2.0",
       "_view_name": "StyleView",
       "description_width": ""
      }
     },
     "7508cdd3b3564b20a63dbd5520c0735c": {
      "model_module": "@jupyter-widgets/controls",
      "model_module_version": "1.5.0",
      "model_name": "HTMLModel",
      "state": {
       "_dom_classes": [],
       "_model_module": "@jupyter-widgets/controls",
       "_model_module_version": "1.5.0",
       "_model_name": "HTMLModel",
       "_view_count": null,
       "_view_module": "@jupyter-widgets/controls",
       "_view_module_version": "1.5.0",
       "_view_name": "HTMLView",
       "description": "",
       "description_tooltip": null,
       "layout": "IPY_MODEL_460389ab7efe4c2b8f9dc07b6ad11c4e",
       "placeholder": "​",
       "style": "IPY_MODEL_c844b0937f484c81b61c009f39eb48bf",
       "value": "model.safetensors: 100%"
      }
     },
     "7609a4f008694492a2995277ccc21c28": {
      "model_module": "@jupyter-widgets/controls",
      "model_module_version": "1.5.0",
      "model_name": "HTMLModel",
      "state": {
       "_dom_classes": [],
       "_model_module": "@jupyter-widgets/controls",
       "_model_module_version": "1.5.0",
       "_model_name": "HTMLModel",
       "_view_count": null,
       "_view_module": "@jupyter-widgets/controls",
       "_view_module_version": "1.5.0",
       "_view_name": "HTMLView",
       "description": "",
       "description_tooltip": null,
       "layout": "IPY_MODEL_4613283db3434bfe8701c9c0ae9cfc83",
       "placeholder": "​",
       "style": "IPY_MODEL_3da3945e1c8940de9279d00b564b81e5",
       "value": "Map: 100%"
      }
     },
     "77681f60abb740b4b7ae1ffdcb30222f": {
      "model_module": "@jupyter-widgets/base",
      "model_module_version": "1.2.0",
      "model_name": "LayoutModel",
      "state": {
       "_model_module": "@jupyter-widgets/base",
       "_model_module_version": "1.2.0",
       "_model_name": "LayoutModel",
       "_view_count": null,
       "_view_module": "@jupyter-widgets/base",
       "_view_module_version": "1.2.0",
       "_view_name": "LayoutView",
       "align_content": null,
       "align_items": null,
       "align_self": null,
       "border": null,
       "bottom": null,
       "display": null,
       "flex": null,
       "flex_flow": null,
       "grid_area": null,
       "grid_auto_columns": null,
       "grid_auto_flow": null,
       "grid_auto_rows": null,
       "grid_column": null,
       "grid_gap": null,
       "grid_row": null,
       "grid_template_areas": null,
       "grid_template_columns": null,
       "grid_template_rows": null,
       "height": null,
       "justify_content": null,
       "justify_items": null,
       "left": null,
       "margin": null,
       "max_height": null,
       "max_width": null,
       "min_height": null,
       "min_width": null,
       "object_fit": null,
       "object_position": null,
       "order": null,
       "overflow": null,
       "overflow_x": null,
       "overflow_y": null,
       "padding": null,
       "right": null,
       "top": null,
       "visibility": null,
       "width": null
      }
     },
     "7be2794a744b4a6ba2e11c04b7cc6189": {
      "model_module": "@jupyter-widgets/controls",
      "model_module_version": "1.5.0",
      "model_name": "ProgressStyleModel",
      "state": {
       "_model_module": "@jupyter-widgets/controls",
       "_model_module_version": "1.5.0",
       "_model_name": "ProgressStyleModel",
       "_view_count": null,
       "_view_module": "@jupyter-widgets/base",
       "_view_module_version": "1.2.0",
       "_view_name": "StyleView",
       "bar_color": null,
       "description_width": ""
      }
     },
     "7cda07eba09c472da94654426122213b": {
      "model_module": "@jupyter-widgets/base",
      "model_module_version": "1.2.0",
      "model_name": "LayoutModel",
      "state": {
       "_model_module": "@jupyter-widgets/base",
       "_model_module_version": "1.2.0",
       "_model_name": "LayoutModel",
       "_view_count": null,
       "_view_module": "@jupyter-widgets/base",
       "_view_module_version": "1.2.0",
       "_view_name": "LayoutView",
       "align_content": null,
       "align_items": null,
       "align_self": null,
       "border": null,
       "bottom": null,
       "display": null,
       "flex": null,
       "flex_flow": null,
       "grid_area": null,
       "grid_auto_columns": null,
       "grid_auto_flow": null,
       "grid_auto_rows": null,
       "grid_column": null,
       "grid_gap": null,
       "grid_row": null,
       "grid_template_areas": null,
       "grid_template_columns": null,
       "grid_template_rows": null,
       "height": null,
       "justify_content": null,
       "justify_items": null,
       "left": null,
       "margin": null,
       "max_height": null,
       "max_width": null,
       "min_height": null,
       "min_width": null,
       "object_fit": null,
       "object_position": null,
       "order": null,
       "overflow": null,
       "overflow_x": null,
       "overflow_y": null,
       "padding": null,
       "right": null,
       "top": null,
       "visibility": null,
       "width": null
      }
     },
     "7f1497ee6ef74e81861133ae2ee027ea": {
      "model_module": "@jupyter-widgets/controls",
      "model_module_version": "1.5.0",
      "model_name": "DescriptionStyleModel",
      "state": {
       "_model_module": "@jupyter-widgets/controls",
       "_model_module_version": "1.5.0",
       "_model_name": "DescriptionStyleModel",
       "_view_count": null,
       "_view_module": "@jupyter-widgets/base",
       "_view_module_version": "1.2.0",
       "_view_name": "StyleView",
       "description_width": ""
      }
     },
     "887248d7a41849bda89d076724d11827": {
      "model_module": "@jupyter-widgets/controls",
      "model_module_version": "1.5.0",
      "model_name": "HBoxModel",
      "state": {
       "_dom_classes": [],
       "_model_module": "@jupyter-widgets/controls",
       "_model_module_version": "1.5.0",
       "_model_name": "HBoxModel",
       "_view_count": null,
       "_view_module": "@jupyter-widgets/controls",
       "_view_module_version": "1.5.0",
       "_view_name": "HBoxView",
       "box_style": "",
       "children": [
        "IPY_MODEL_00a7ec321bb741d187b8440919316112",
        "IPY_MODEL_6a2d2738dad8490a9cc0fbd71a4ab839",
        "IPY_MODEL_ec7651f9ed374584b4c03994ab484e14"
       ],
       "layout": "IPY_MODEL_a3e4e725913d49a4a624631de12ec50a"
      }
     },
     "9115867ad44444269f9ee670e91f2d33": {
      "model_module": "@jupyter-widgets/controls",
      "model_module_version": "1.5.0",
      "model_name": "DescriptionStyleModel",
      "state": {
       "_model_module": "@jupyter-widgets/controls",
       "_model_module_version": "1.5.0",
       "_model_name": "DescriptionStyleModel",
       "_view_count": null,
       "_view_module": "@jupyter-widgets/base",
       "_view_module_version": "1.2.0",
       "_view_name": "StyleView",
       "description_width": ""
      }
     },
     "961c4bbf115648659ca2f760a41756ab": {
      "model_module": "@jupyter-widgets/controls",
      "model_module_version": "1.5.0",
      "model_name": "DescriptionStyleModel",
      "state": {
       "_model_module": "@jupyter-widgets/controls",
       "_model_module_version": "1.5.0",
       "_model_name": "DescriptionStyleModel",
       "_view_count": null,
       "_view_module": "@jupyter-widgets/base",
       "_view_module_version": "1.2.0",
       "_view_name": "StyleView",
       "description_width": ""
      }
     },
     "971bc4704ad849cea7ed15fe28e3597c": {
      "model_module": "@jupyter-widgets/base",
      "model_module_version": "1.2.0",
      "model_name": "LayoutModel",
      "state": {
       "_model_module": "@jupyter-widgets/base",
       "_model_module_version": "1.2.0",
       "_model_name": "LayoutModel",
       "_view_count": null,
       "_view_module": "@jupyter-widgets/base",
       "_view_module_version": "1.2.0",
       "_view_name": "LayoutView",
       "align_content": null,
       "align_items": null,
       "align_self": null,
       "border": null,
       "bottom": null,
       "display": null,
       "flex": null,
       "flex_flow": null,
       "grid_area": null,
       "grid_auto_columns": null,
       "grid_auto_flow": null,
       "grid_auto_rows": null,
       "grid_column": null,
       "grid_gap": null,
       "grid_row": null,
       "grid_template_areas": null,
       "grid_template_columns": null,
       "grid_template_rows": null,
       "height": null,
       "justify_content": null,
       "justify_items": null,
       "left": null,
       "margin": null,
       "max_height": null,
       "max_width": null,
       "min_height": null,
       "min_width": null,
       "object_fit": null,
       "object_position": null,
       "order": null,
       "overflow": null,
       "overflow_x": null,
       "overflow_y": null,
       "padding": null,
       "right": null,
       "top": null,
       "visibility": null,
       "width": null
      }
     },
     "99e178dc006d4cc783f164fcda93c8cf": {
      "model_module": "@jupyter-widgets/controls",
      "model_module_version": "1.5.0",
      "model_name": "ProgressStyleModel",
      "state": {
       "_model_module": "@jupyter-widgets/controls",
       "_model_module_version": "1.5.0",
       "_model_name": "ProgressStyleModel",
       "_view_count": null,
       "_view_module": "@jupyter-widgets/base",
       "_view_module_version": "1.2.0",
       "_view_name": "StyleView",
       "bar_color": null,
       "description_width": ""
      }
     },
     "a1d826ef638f43bea74a003b89e06d12": {
      "model_module": "@jupyter-widgets/controls",
      "model_module_version": "1.5.0",
      "model_name": "DescriptionStyleModel",
      "state": {
       "_model_module": "@jupyter-widgets/controls",
       "_model_module_version": "1.5.0",
       "_model_name": "DescriptionStyleModel",
       "_view_count": null,
       "_view_module": "@jupyter-widgets/base",
       "_view_module_version": "1.2.0",
       "_view_name": "StyleView",
       "description_width": ""
      }
     },
     "a3e4e725913d49a4a624631de12ec50a": {
      "model_module": "@jupyter-widgets/base",
      "model_module_version": "1.2.0",
      "model_name": "LayoutModel",
      "state": {
       "_model_module": "@jupyter-widgets/base",
       "_model_module_version": "1.2.0",
       "_model_name": "LayoutModel",
       "_view_count": null,
       "_view_module": "@jupyter-widgets/base",
       "_view_module_version": "1.2.0",
       "_view_name": "LayoutView",
       "align_content": null,
       "align_items": null,
       "align_self": null,
       "border": null,
       "bottom": null,
       "display": null,
       "flex": null,
       "flex_flow": null,
       "grid_area": null,
       "grid_auto_columns": null,
       "grid_auto_flow": null,
       "grid_auto_rows": null,
       "grid_column": null,
       "grid_gap": null,
       "grid_row": null,
       "grid_template_areas": null,
       "grid_template_columns": null,
       "grid_template_rows": null,
       "height": null,
       "justify_content": null,
       "justify_items": null,
       "left": null,
       "margin": null,
       "max_height": null,
       "max_width": null,
       "min_height": null,
       "min_width": null,
       "object_fit": null,
       "object_position": null,
       "order": null,
       "overflow": null,
       "overflow_x": null,
       "overflow_y": null,
       "padding": null,
       "right": null,
       "top": null,
       "visibility": null,
       "width": null
      }
     },
     "adbccb4abb504f308f0e9ab6d700a4fa": {
      "model_module": "@jupyter-widgets/controls",
      "model_module_version": "1.5.0",
      "model_name": "DescriptionStyleModel",
      "state": {
       "_model_module": "@jupyter-widgets/controls",
       "_model_module_version": "1.5.0",
       "_model_name": "DescriptionStyleModel",
       "_view_count": null,
       "_view_module": "@jupyter-widgets/base",
       "_view_module_version": "1.2.0",
       "_view_name": "StyleView",
       "description_width": ""
      }
     },
     "ae360e4ac94d460ab4945231fb0290b8": {
      "model_module": "@jupyter-widgets/controls",
      "model_module_version": "1.5.0",
      "model_name": "HTMLModel",
      "state": {
       "_dom_classes": [],
       "_model_module": "@jupyter-widgets/controls",
       "_model_module_version": "1.5.0",
       "_model_name": "HTMLModel",
       "_view_count": null,
       "_view_module": "@jupyter-widgets/controls",
       "_view_module_version": "1.5.0",
       "_view_name": "HTMLView",
       "description": "",
       "description_tooltip": null,
       "layout": "IPY_MODEL_16f981db93014e0986dac33fc715c49d",
       "placeholder": "​",
       "style": "IPY_MODEL_591a55985c63492c893517659b74f33d",
       "value": "preprocessor_config.json: 100%"
      }
     },
     "afa01fa12ebf43f998389a38071175e7": {
      "model_module": "@jupyter-widgets/controls",
      "model_module_version": "1.5.0",
      "model_name": "ProgressStyleModel",
      "state": {
       "_model_module": "@jupyter-widgets/controls",
       "_model_module_version": "1.5.0",
       "_model_name": "ProgressStyleModel",
       "_view_count": null,
       "_view_module": "@jupyter-widgets/base",
       "_view_module_version": "1.2.0",
       "_view_name": "StyleView",
       "bar_color": null,
       "description_width": ""
      }
     },
     "b1888f9d03f847d599a271985a1c90b3": {
      "model_module": "@jupyter-widgets/base",
      "model_module_version": "1.2.0",
      "model_name": "LayoutModel",
      "state": {
       "_model_module": "@jupyter-widgets/base",
       "_model_module_version": "1.2.0",
       "_model_name": "LayoutModel",
       "_view_count": null,
       "_view_module": "@jupyter-widgets/base",
       "_view_module_version": "1.2.0",
       "_view_name": "LayoutView",
       "align_content": null,
       "align_items": null,
       "align_self": null,
       "border": null,
       "bottom": null,
       "display": null,
       "flex": null,
       "flex_flow": null,
       "grid_area": null,
       "grid_auto_columns": null,
       "grid_auto_flow": null,
       "grid_auto_rows": null,
       "grid_column": null,
       "grid_gap": null,
       "grid_row": null,
       "grid_template_areas": null,
       "grid_template_columns": null,
       "grid_template_rows": null,
       "height": null,
       "justify_content": null,
       "justify_items": null,
       "left": null,
       "margin": null,
       "max_height": null,
       "max_width": null,
       "min_height": null,
       "min_width": null,
       "object_fit": null,
       "object_position": null,
       "order": null,
       "overflow": null,
       "overflow_x": null,
       "overflow_y": null,
       "padding": null,
       "right": null,
       "top": null,
       "visibility": null,
       "width": null
      }
     },
     "bcb5a14945ff4004be5e98fa29698218": {
      "model_module": "@jupyter-widgets/controls",
      "model_module_version": "1.5.0",
      "model_name": "HBoxModel",
      "state": {
       "_dom_classes": [],
       "_model_module": "@jupyter-widgets/controls",
       "_model_module_version": "1.5.0",
       "_model_name": "HBoxModel",
       "_view_count": null,
       "_view_module": "@jupyter-widgets/controls",
       "_view_module_version": "1.5.0",
       "_view_name": "HBoxView",
       "box_style": "",
       "children": [
        "IPY_MODEL_cfa4ef0b709b4ed9b6719bcaca6a3f89",
        "IPY_MODEL_6d01c19005d744e096c2ff497ef47845",
        "IPY_MODEL_c3629dc3a3424c7a80de4c5d0bcbdaff"
       ],
       "layout": "IPY_MODEL_5b0310de4db44a10ac758f283b9dbb97"
      }
     },
     "c1e102fbde784ba2ba65d10de2f19309": {
      "model_module": "@jupyter-widgets/base",
      "model_module_version": "1.2.0",
      "model_name": "LayoutModel",
      "state": {
       "_model_module": "@jupyter-widgets/base",
       "_model_module_version": "1.2.0",
       "_model_name": "LayoutModel",
       "_view_count": null,
       "_view_module": "@jupyter-widgets/base",
       "_view_module_version": "1.2.0",
       "_view_name": "LayoutView",
       "align_content": null,
       "align_items": null,
       "align_self": null,
       "border": null,
       "bottom": null,
       "display": null,
       "flex": null,
       "flex_flow": null,
       "grid_area": null,
       "grid_auto_columns": null,
       "grid_auto_flow": null,
       "grid_auto_rows": null,
       "grid_column": null,
       "grid_gap": null,
       "grid_row": null,
       "grid_template_areas": null,
       "grid_template_columns": null,
       "grid_template_rows": null,
       "height": null,
       "justify_content": null,
       "justify_items": null,
       "left": null,
       "margin": null,
       "max_height": null,
       "max_width": null,
       "min_height": null,
       "min_width": null,
       "object_fit": null,
       "object_position": null,
       "order": null,
       "overflow": null,
       "overflow_x": null,
       "overflow_y": null,
       "padding": null,
       "right": null,
       "top": null,
       "visibility": null,
       "width": null
      }
     },
     "c3629dc3a3424c7a80de4c5d0bcbdaff": {
      "model_module": "@jupyter-widgets/controls",
      "model_module_version": "1.5.0",
      "model_name": "HTMLModel",
      "state": {
       "_dom_classes": [],
       "_model_module": "@jupyter-widgets/controls",
       "_model_module_version": "1.5.0",
       "_model_name": "HTMLModel",
       "_view_count": null,
       "_view_module": "@jupyter-widgets/controls",
       "_view_module_version": "1.5.0",
       "_view_name": "HTMLView",
       "description": "",
       "description_tooltip": null,
       "layout": "IPY_MODEL_0d986e1af73043aabbe39da7c82564eb",
       "placeholder": "​",
       "style": "IPY_MODEL_9115867ad44444269f9ee670e91f2d33",
       "value": " 502/502 [00:00&lt;00:00, 42.3kB/s]"
      }
     },
     "c844b0937f484c81b61c009f39eb48bf": {
      "model_module": "@jupyter-widgets/controls",
      "model_module_version": "1.5.0",
      "model_name": "DescriptionStyleModel",
      "state": {
       "_model_module": "@jupyter-widgets/controls",
       "_model_module_version": "1.5.0",
       "_model_name": "DescriptionStyleModel",
       "_view_count": null,
       "_view_module": "@jupyter-widgets/base",
       "_view_module_version": "1.2.0",
       "_view_name": "StyleView",
       "description_width": ""
      }
     },
     "cfa4ef0b709b4ed9b6719bcaca6a3f89": {
      "model_module": "@jupyter-widgets/controls",
      "model_module_version": "1.5.0",
      "model_name": "HTMLModel",
      "state": {
       "_dom_classes": [],
       "_model_module": "@jupyter-widgets/controls",
       "_model_module_version": "1.5.0",
       "_model_name": "HTMLModel",
       "_view_count": null,
       "_view_module": "@jupyter-widgets/controls",
       "_view_module_version": "1.5.0",
       "_view_name": "HTMLView",
       "description": "",
       "description_tooltip": null,
       "layout": "IPY_MODEL_b1888f9d03f847d599a271985a1c90b3",
       "placeholder": "​",
       "style": "IPY_MODEL_adbccb4abb504f308f0e9ab6d700a4fa",
       "value": "config.json: 100%"
      }
     },
     "d2df8104fd9343778283135fc5b3b33a": {
      "model_module": "@jupyter-widgets/base",
      "model_module_version": "1.2.0",
      "model_name": "LayoutModel",
      "state": {
       "_model_module": "@jupyter-widgets/base",
       "_model_module_version": "1.2.0",
       "_model_name": "LayoutModel",
       "_view_count": null,
       "_view_module": "@jupyter-widgets/base",
       "_view_module_version": "1.2.0",
       "_view_name": "LayoutView",
       "align_content": null,
       "align_items": null,
       "align_self": null,
       "border": null,
       "bottom": null,
       "display": null,
       "flex": null,
       "flex_flow": null,
       "grid_area": null,
       "grid_auto_columns": null,
       "grid_auto_flow": null,
       "grid_auto_rows": null,
       "grid_column": null,
       "grid_gap": null,
       "grid_row": null,
       "grid_template_areas": null,
       "grid_template_columns": null,
       "grid_template_rows": null,
       "height": null,
       "justify_content": null,
       "justify_items": null,
       "left": null,
       "margin": null,
       "max_height": null,
       "max_width": null,
       "min_height": null,
       "min_width": null,
       "object_fit": null,
       "object_position": null,
       "order": null,
       "overflow": null,
       "overflow_x": null,
       "overflow_y": null,
       "padding": null,
       "right": null,
       "top": null,
       "visibility": null,
       "width": null
      }
     },
     "d33b7258d1a145e18171925c659047bf": {
      "model_module": "@jupyter-widgets/base",
      "model_module_version": "1.2.0",
      "model_name": "LayoutModel",
      "state": {
       "_model_module": "@jupyter-widgets/base",
       "_model_module_version": "1.2.0",
       "_model_name": "LayoutModel",
       "_view_count": null,
       "_view_module": "@jupyter-widgets/base",
       "_view_module_version": "1.2.0",
       "_view_name": "LayoutView",
       "align_content": null,
       "align_items": null,
       "align_self": null,
       "border": null,
       "bottom": null,
       "display": null,
       "flex": null,
       "flex_flow": null,
       "grid_area": null,
       "grid_auto_columns": null,
       "grid_auto_flow": null,
       "grid_auto_rows": null,
       "grid_column": null,
       "grid_gap": null,
       "grid_row": null,
       "grid_template_areas": null,
       "grid_template_columns": null,
       "grid_template_rows": null,
       "height": null,
       "justify_content": null,
       "justify_items": null,
       "left": null,
       "margin": null,
       "max_height": null,
       "max_width": null,
       "min_height": null,
       "min_width": null,
       "object_fit": null,
       "object_position": null,
       "order": null,
       "overflow": null,
       "overflow_x": null,
       "overflow_y": null,
       "padding": null,
       "right": null,
       "top": null,
       "visibility": null,
       "width": null
      }
     },
     "d3a96f41a1874ebe8572eb86bbfdc172": {
      "model_module": "@jupyter-widgets/controls",
      "model_module_version": "1.5.0",
      "model_name": "ProgressStyleModel",
      "state": {
       "_model_module": "@jupyter-widgets/controls",
       "_model_module_version": "1.5.0",
       "_model_name": "ProgressStyleModel",
       "_view_count": null,
       "_view_module": "@jupyter-widgets/base",
       "_view_module_version": "1.2.0",
       "_view_name": "StyleView",
       "bar_color": null,
       "description_width": ""
      }
     },
     "d6e6a278cd1342d7aabc8b0225a5eaa8": {
      "model_module": "@jupyter-widgets/base",
      "model_module_version": "1.2.0",
      "model_name": "LayoutModel",
      "state": {
       "_model_module": "@jupyter-widgets/base",
       "_model_module_version": "1.2.0",
       "_model_name": "LayoutModel",
       "_view_count": null,
       "_view_module": "@jupyter-widgets/base",
       "_view_module_version": "1.2.0",
       "_view_name": "LayoutView",
       "align_content": null,
       "align_items": null,
       "align_self": null,
       "border": null,
       "bottom": null,
       "display": null,
       "flex": null,
       "flex_flow": null,
       "grid_area": null,
       "grid_auto_columns": null,
       "grid_auto_flow": null,
       "grid_auto_rows": null,
       "grid_column": null,
       "grid_gap": null,
       "grid_row": null,
       "grid_template_areas": null,
       "grid_template_columns": null,
       "grid_template_rows": null,
       "height": null,
       "justify_content": null,
       "justify_items": null,
       "left": null,
       "margin": null,
       "max_height": null,
       "max_width": null,
       "min_height": null,
       "min_width": null,
       "object_fit": null,
       "object_position": null,
       "order": null,
       "overflow": null,
       "overflow_x": null,
       "overflow_y": null,
       "padding": null,
       "right": null,
       "top": null,
       "visibility": null,
       "width": null
      }
     },
     "da478541a64544d7b25b5f53d9861822": {
      "model_module": "@jupyter-widgets/controls",
      "model_module_version": "1.5.0",
      "model_name": "HTMLModel",
      "state": {
       "_dom_classes": [],
       "_model_module": "@jupyter-widgets/controls",
       "_model_module_version": "1.5.0",
       "_model_name": "HTMLModel",
       "_view_count": null,
       "_view_module": "@jupyter-widgets/controls",
       "_view_module_version": "1.5.0",
       "_view_name": "HTMLView",
       "description": "",
       "description_tooltip": null,
       "layout": "IPY_MODEL_0103449ee75942c4943f46cfbd759412",
       "placeholder": "​",
       "style": "IPY_MODEL_7f1497ee6ef74e81861133ae2ee027ea",
       "value": " 160/160 [00:00&lt;00:00, 14.1kB/s]"
      }
     },
     "db43a97712cd44988954c0950e4648c3": {
      "model_module": "@jupyter-widgets/base",
      "model_module_version": "1.2.0",
      "model_name": "LayoutModel",
      "state": {
       "_model_module": "@jupyter-widgets/base",
       "_model_module_version": "1.2.0",
       "_model_name": "LayoutModel",
       "_view_count": null,
       "_view_module": "@jupyter-widgets/base",
       "_view_module_version": "1.2.0",
       "_view_name": "LayoutView",
       "align_content": null,
       "align_items": null,
       "align_self": null,
       "border": null,
       "bottom": null,
       "display": null,
       "flex": null,
       "flex_flow": null,
       "grid_area": null,
       "grid_auto_columns": null,
       "grid_auto_flow": null,
       "grid_auto_rows": null,
       "grid_column": null,
       "grid_gap": null,
       "grid_row": null,
       "grid_template_areas": null,
       "grid_template_columns": null,
       "grid_template_rows": null,
       "height": null,
       "justify_content": null,
       "justify_items": null,
       "left": null,
       "margin": null,
       "max_height": null,
       "max_width": null,
       "min_height": null,
       "min_width": null,
       "object_fit": null,
       "object_position": null,
       "order": null,
       "overflow": null,
       "overflow_x": null,
       "overflow_y": null,
       "padding": null,
       "right": null,
       "top": null,
       "visibility": null,
       "width": null
      }
     },
     "dcfa86afc5db40d59879565021813fe7": {
      "model_module": "@jupyter-widgets/base",
      "model_module_version": "1.2.0",
      "model_name": "LayoutModel",
      "state": {
       "_model_module": "@jupyter-widgets/base",
       "_model_module_version": "1.2.0",
       "_model_name": "LayoutModel",
       "_view_count": null,
       "_view_module": "@jupyter-widgets/base",
       "_view_module_version": "1.2.0",
       "_view_name": "LayoutView",
       "align_content": null,
       "align_items": null,
       "align_self": null,
       "border": null,
       "bottom": null,
       "display": null,
       "flex": null,
       "flex_flow": null,
       "grid_area": null,
       "grid_auto_columns": null,
       "grid_auto_flow": null,
       "grid_auto_rows": null,
       "grid_column": null,
       "grid_gap": null,
       "grid_row": null,
       "grid_template_areas": null,
       "grid_template_columns": null,
       "grid_template_rows": null,
       "height": null,
       "justify_content": null,
       "justify_items": null,
       "left": null,
       "margin": null,
       "max_height": null,
       "max_width": null,
       "min_height": null,
       "min_width": null,
       "object_fit": null,
       "object_position": null,
       "order": null,
       "overflow": null,
       "overflow_x": null,
       "overflow_y": null,
       "padding": null,
       "right": null,
       "top": null,
       "visibility": null,
       "width": null
      }
     },
     "de78408ea9d544b5a73108c6504bd55c": {
      "model_module": "@jupyter-widgets/base",
      "model_module_version": "1.2.0",
      "model_name": "LayoutModel",
      "state": {
       "_model_module": "@jupyter-widgets/base",
       "_model_module_version": "1.2.0",
       "_model_name": "LayoutModel",
       "_view_count": null,
       "_view_module": "@jupyter-widgets/base",
       "_view_module_version": "1.2.0",
       "_view_name": "LayoutView",
       "align_content": null,
       "align_items": null,
       "align_self": null,
       "border": null,
       "bottom": null,
       "display": null,
       "flex": null,
       "flex_flow": null,
       "grid_area": null,
       "grid_auto_columns": null,
       "grid_auto_flow": null,
       "grid_auto_rows": null,
       "grid_column": null,
       "grid_gap": null,
       "grid_row": null,
       "grid_template_areas": null,
       "grid_template_columns": null,
       "grid_template_rows": null,
       "height": null,
       "justify_content": null,
       "justify_items": null,
       "left": null,
       "margin": null,
       "max_height": null,
       "max_width": null,
       "min_height": null,
       "min_width": null,
       "object_fit": null,
       "object_position": null,
       "order": null,
       "overflow": null,
       "overflow_x": null,
       "overflow_y": null,
       "padding": null,
       "right": null,
       "top": null,
       "visibility": null,
       "width": null
      }
     },
     "df2b74424edc4b0489a91dc05815dfdf": {
      "model_module": "@jupyter-widgets/base",
      "model_module_version": "1.2.0",
      "model_name": "LayoutModel",
      "state": {
       "_model_module": "@jupyter-widgets/base",
       "_model_module_version": "1.2.0",
       "_model_name": "LayoutModel",
       "_view_count": null,
       "_view_module": "@jupyter-widgets/base",
       "_view_module_version": "1.2.0",
       "_view_name": "LayoutView",
       "align_content": null,
       "align_items": null,
       "align_self": null,
       "border": null,
       "bottom": null,
       "display": null,
       "flex": null,
       "flex_flow": null,
       "grid_area": null,
       "grid_auto_columns": null,
       "grid_auto_flow": null,
       "grid_auto_rows": null,
       "grid_column": null,
       "grid_gap": null,
       "grid_row": null,
       "grid_template_areas": null,
       "grid_template_columns": null,
       "grid_template_rows": null,
       "height": null,
       "justify_content": null,
       "justify_items": null,
       "left": null,
       "margin": null,
       "max_height": null,
       "max_width": null,
       "min_height": null,
       "min_width": null,
       "object_fit": null,
       "object_position": null,
       "order": null,
       "overflow": null,
       "overflow_x": null,
       "overflow_y": null,
       "padding": null,
       "right": null,
       "top": null,
       "visibility": null,
       "width": null
      }
     },
     "e1326091f8f44ed5ae9adccf84503346": {
      "model_module": "@jupyter-widgets/controls",
      "model_module_version": "1.5.0",
      "model_name": "FloatProgressModel",
      "state": {
       "_dom_classes": [],
       "_model_module": "@jupyter-widgets/controls",
       "_model_module_version": "1.5.0",
       "_model_name": "FloatProgressModel",
       "_view_count": null,
       "_view_module": "@jupyter-widgets/controls",
       "_view_module_version": "1.5.0",
       "_view_name": "ProgressView",
       "bar_style": "success",
       "description": "",
       "description_tooltip": null,
       "layout": "IPY_MODEL_d6e6a278cd1342d7aabc8b0225a5eaa8",
       "max": 5000,
       "min": 0,
       "orientation": "horizontal",
       "style": "IPY_MODEL_22af6fde745342fc9b1f3e200574798e",
       "value": 5000
      }
     },
     "ec7651f9ed374584b4c03994ab484e14": {
      "model_module": "@jupyter-widgets/controls",
      "model_module_version": "1.5.0",
      "model_name": "HTMLModel",
      "state": {
       "_dom_classes": [],
       "_model_module": "@jupyter-widgets/controls",
       "_model_module_version": "1.5.0",
       "_model_name": "HTMLModel",
       "_view_count": null,
       "_view_module": "@jupyter-widgets/controls",
       "_view_module_version": "1.5.0",
       "_view_name": "HTMLView",
       "description": "",
       "description_tooltip": null,
       "layout": "IPY_MODEL_351ef1916d794e3d8bcecb12edcda42b",
       "placeholder": "​",
       "style": "IPY_MODEL_73856dcc0a22432ba6ebc45cdb555c60",
       "value": " 13500/13500 [02:38&lt;00:00, 88.28 examples/s]"
      }
     },
     "f171dc5ae45741b3a94af2cf9659d3b9": {
      "model_module": "@jupyter-widgets/controls",
      "model_module_version": "1.5.0",
      "model_name": "FloatProgressModel",
      "state": {
       "_dom_classes": [],
       "_model_module": "@jupyter-widgets/controls",
       "_model_module_version": "1.5.0",
       "_model_name": "FloatProgressModel",
       "_view_count": null,
       "_view_module": "@jupyter-widgets/controls",
       "_view_module_version": "1.5.0",
       "_view_name": "ProgressView",
       "bar_style": "success",
       "description": "",
       "description_tooltip": null,
       "layout": "IPY_MODEL_d33b7258d1a145e18171925c659047bf",
       "max": 1500,
       "min": 0,
       "orientation": "horizontal",
       "style": "IPY_MODEL_afa01fa12ebf43f998389a38071175e7",
       "value": 1500
      }
     },
     "f2e623f330964498ac0fbe1ef712492b": {
      "model_module": "@jupyter-widgets/controls",
      "model_module_version": "1.5.0",
      "model_name": "HTMLModel",
      "state": {
       "_dom_classes": [],
       "_model_module": "@jupyter-widgets/controls",
       "_model_module_version": "1.5.0",
       "_model_name": "HTMLModel",
       "_view_count": null,
       "_view_module": "@jupyter-widgets/controls",
       "_view_module_version": "1.5.0",
       "_view_name": "HTMLView",
       "description": "",
       "description_tooltip": null,
       "layout": "IPY_MODEL_16c6f2a35f7049d4aac31441a0c46822",
       "placeholder": "​",
       "style": "IPY_MODEL_961c4bbf115648659ca2f760a41756ab",
       "value": "Map: 100%"
      }
     },
     "f69d3dbb2de74bfebe0ab624405f5377": {
      "model_module": "@jupyter-widgets/controls",
      "model_module_version": "1.5.0",
      "model_name": "DescriptionStyleModel",
      "state": {
       "_model_module": "@jupyter-widgets/controls",
       "_model_module_version": "1.5.0",
       "_model_name": "DescriptionStyleModel",
       "_view_count": null,
       "_view_module": "@jupyter-widgets/base",
       "_view_module_version": "1.2.0",
       "_view_name": "StyleView",
       "description_width": ""
      }
     }
    },
    "version_major": 2,
    "version_minor": 0
   }
  }
 },
 "nbformat": 4,
 "nbformat_minor": 5
}
